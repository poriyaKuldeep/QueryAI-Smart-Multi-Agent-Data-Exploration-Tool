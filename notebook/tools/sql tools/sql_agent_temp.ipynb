{
 "cells": [
  {
   "cell_type": "code",
   "execution_count": null,
   "metadata": {},
   "outputs": [],
   "source": [
    "from pyprojroot import here\n",
    "from langchain_community.utilities import SQLDatabase\n",
    "# db_path=\"notebook\\tools\\sql tools\\BIRD (1).db\"\n",
    "# db_path_root=here(db_path)\n",
    "# db=SQLDatabase.from_uri(f\"sqlite:///{db_path_root}\")\n",
    "sqldb_directory_path=\"BIRD (1).db\"\n",
    "\n",
    "# db=SQLDatabase.from_uri(\"sqlite:///{sqldb_directory_path}\")\n",
    "db=SQLDatabase.from_uri(f\"sqlite:///{sqldb_directory_path}\")\n",
    "\n"
   ]
  },
  {
   "cell_type": "code",
   "execution_count": 7,
   "metadata": {},
   "outputs": [
    {
     "name": "stdout",
     "output_type": "stream",
     "text": [
      "[('T-001', 27, 'Interior Fit-Out', '1/23/2020', '2/22/2021', 0, 121235.8, 42939.82, 121235.8, 'CCo-03'), ('T-002', 3, 'Foundation Construction', '11/14/2017', '4/16/2020', 1, 566066.2, 602875.8, 645680.9, 'CCo-05'), ('T-003', 37, 'Site Survey', '1/27/2022', '1/27/2022', 1, 575075.2, 575075.2, 507631.2, 'CCo-09'), ('T-004', 47, 'Foundation Work', '3/26/2022', '3/26/2022', 1, 805677.1, 885158.3, 805677.1, 'CCo-01'), ('T-005', 8, 'Railings Installation', '12/15/2017', '9/14/2018', 0, 855508.8, 835542.4, 855508.8, 'CCo-01'), ('T-006', 1, 'Foundation Work', '2019-02-10 00:00:00', '2022-06-01 00:00:00', 1, 439495.0, 393913.8, 530709.1, 'CCo-05'), ('T-007', 26, 'Excavation', '11/23/2021', '2024-08-02 00:00:00', 0, 603240.3, 603240.3, 603240.3, 'CCo-03'), ('T-008', 5, 'Structural Construction', '2020-03-05 00:00:00', '2020-07-11 00:00:00', 1, 536952.7, 536952.7, 472478.4, 'CCo-04'), ('T-009', 2, 'Monument Foundation', '4/19/2018', '2019-06-06 00:00:00', 0, 225431.1, 245160.3, 225431.1, 'CCo-07'), ('T-010', 24, 'Interior and Exterior Finishing', '10/24/2022', '2023-12-03 00:00:00', 1, 825455.9, 825455.9, 780695.7, 'CCo-13'), ('T-011', 39, 'Electrical and Plumbing Installation', '2018-06-06 00:00:00', '2020-02-04 00:00:00', 0, 16909.02, 16909.02, 16909.02, 'CCo-15'), ('T-012', 19, 'Electrical Wiring', '1/15/2022', '1/29/2023', 1, 287443.1, 287443.1, 287443.1, 'CCo-18'), ('T-013', 14, 'Electrical Grid Connection', '4/28/2016', '2016-10-07 00:00:00', 1, 687299.7, 687299.7, 735892.3, 'CCo-01'), ('T-014', 45, 'Site Clearing', '8/25/2017', '11/26/2018', 0, 828697.8, 912027.6, 828697.8, 'CCo-07'), ('T-015', 16, 'Demolition of Existing Structures', '2019-10-02 00:00:00', '1/24/2021', 1, 471777.9, 471777.9, 538862.7, 'CCo-03'), ('T-016', 5, 'HVAC Installation', '2/26/2020', '2020-07-11 00:00:00', 0, 939916.6, 939916.6, 989376.2, 'CCo-01'), ('T-017', 32, 'Site Survey', '1/19/2020', '11/15/2020', 1, 769280.2, 769280.2, 781080.4, 'CCo-10'), ('T-018', 21, 'Foundation Laying', '7/31/2021', '2022-11-11 00:00:00', 0, 543307.1, 544022.5, 575798.6, 'CCo-08'), ('T-019', 21, 'HVAC and Filtration Installation', '2021-03-05 00:00:00', '2022-11-11 00:00:00', 0, 667308.2, 619055.5, 615212.2, None), ('T-020', 27, 'Structural Construction', '7/22/2020', '2/22/2021', 1, 533041.4, 533041.4, 478601.4, 'CCo-05'), ('T-021', 23, 'Site Preparation', '2022-02-01 00:00:00', '1/29/2023', 1, 21900.04, 42580.08, 50476.83, 'CCo-13'), ('T-022', 34, 'Foundation Laying', '2020-02-09 00:00:00', '12/26/2021', 1, 717002.5, 717002.5, 717002.5, 'CCo-08'), ('T-023', 12, 'HVAC and Electrical Work', '2016-04-07 00:00:00', '2017-10-05 00:00:00', 1, 968146.5, 1036478.0, 968146.5, 'CCo-04'), ('T-024', 39, 'Building Construction', '2018-10-01 00:00:00', '2020-02-04 00:00:00', 0, 444672.5, 350320.5, 445202.1, 'CCo-06'), ('T-025', 25, 'Structural Construction', '2019-10-12 00:00:00', '8/26/2020', 0, 214247.4, 174710.5, 214247.4, 'CCo-04'), ('T-026', 28, 'Signage Installation', '12/28/2021', '1/15/2023', 0, 720851.9, 720851.9, 720851.9, 'CCo-15'), ('T-027', 49, 'Excavation', '2021-04-05 00:00:00', '10/24/2022', 1, 473250.9, 473250.9, 433469.2, 'CCo-05'), ('T-028', 39, 'Electrical and Plumbing Installation', '8/17/2019', '2020-02-04 00:00:00', 1, 816626.7, 816626.7, 760028.1, 'CCo-15'), ('T-029', 14, 'Electrical Grid Connection', '2/25/2017', '2/25/2017', 1, 978521.4, 978521.4, 1032596.0, 'CCo-01'), ('T-030', 30, 'Site Preparation', '2017-10-09 00:00:00', '9/15/2018', 0, 104658.7, 50202.24, 104658.7, 'CCo-12')]\n"
     ]
    }
   ],
   "source": [
    "result=db.run(\"SELECT * FROM 'Task' LIMIT 0,30\")\n",
    "print(result)"
   ]
  },
  {
   "cell_type": "code",
   "execution_count": 8,
   "metadata": {},
   "outputs": [
    {
     "data": {
      "text/plain": [
       "{'table_info': '\\nCREATE TABLE \"Billing\" (\\n\\t\"BillingId\" TEXT, \\n\\t\"ProjectId\" INTEGER, \\n\\t\"BillingAmount\" REAL, \\n\\t\"BillingDate\" TEXT, \\n\\t\"CollectedAmount\" REAL, \\n\\t\"DueDate\" TEXT\\n)\\n\\n/*\\n3 rows from Billing table:\\nBillingId\\tProjectId\\tBillingAmount\\tBillingDate\\tCollectedAmount\\tDueDate\\nB-0001\\t15\\t37238.6\\t4/21/2019\\t37238.6\\t6/25/2019\\nB-0002\\t37\\t376237.5\\t9/20/2018\\t341287.5\\t2019-01-01 00:00:00\\nB-0003\\t33\\t544129.4\\t5/19/2022\\t544129.4\\t2022-03-11 00:00:00\\n*/\\n\\n\\nCREATE TABLE \"ChangeOrder\" (\\n\\t\"ChangeOrderID\" TEXT, \\n\\t\"ProjectID\" INTEGER, \\n\\t\"Description\" TEXT, \\n\\t\"Amount\" REAL, \\n\\t\"Date\" TEXT, \\n\\t\"Impact_on_Budget\" REAL\\n)\\n\\n/*\\n3 rows from ChangeOrder table:\\nChangeOrderID\\tProjectID\\tDescription\\tAmount\\tDate\\tImpact_on_Budget\\nCO-0001\\t3\\tAdditional costs due to unforeseen regulatory compliance.\\t234070.59\\t2020-02-05 00:00:00\\t234070.59\\nCO-0002\\t41\\tRevised project scope with no budget impact.\\t979801.92\\t3/29/2019\\t0.0\\nCO-0003\\t47\\tIncorporated cost-effective design elements for civic center.\\t973464.41\\t6/22/2017\\t-973464.41\\n*/\\n\\n\\nCREATE TABLE \"ComplianceIssue\" (\\n\\t\"ComplianceID\" TEXT, \\n\\t\"ProjectID\" INTEGER, \\n\\t\"IssueDescription\" TEXT, \\n\\t\"DateIdentified\" TEXT, \\n\\t\"DateResolved\" TEXT, \\n\\t\"Status\" INTEGER\\n)\\n\\n/*\\n3 rows from ComplianceIssue table:\\nComplianceID\\tProjectID\\tIssueDescription\\tDateIdentified\\tDateResolved\\tStatus\\nC-001\\t37\\tMaintenance Requirements: Lack of provisions for ongoing maintenance and facility management.\\t2020-12-11 00:00:00\\t6/15/2021\\t0\\nC-002\\t34\\tMaintenance Requirements: Lack of provisions for ongoing maintenance and property management.\\t2020-06-12 00:00:00\\t2/23/2021\\t0\\nC-003\\t31\\tDocumentation Gaps: Incomplete records of design changes and regulatory approvals.\\t12/30/2016\\tNone\\t1\\n*/\\n\\n\\nCREATE TABLE \"Contract\" (\\n\\t\"ContractId\" TEXT, \\n\\t\"ProjectID\" INTEGER, \\n\\t\"ContractDescription\" TEXT, \\n\\t\"ContractAmount\" REAL, \\n\\t\"StartDate\" TEXT, \\n\\t\"EndDate\" TEXT\\n)\\n\\n/*\\n3 rows from Contract table:\\nContractId\\tProjectID\\tContractDescription\\tContractAmount\\tStartDate\\tEndDate\\nCont-0001\\t35\\tInstallation of new signage and road markings on Route highway.\\t79074.04\\t2/23/2020\\t2020-12-11 00:00:00\\nCont-0002\\t30\\tExpansion of administrative and public service spaces in Main Office City Hall.\\t47389.91\\t10/29/2017\\t2018-06-05 00:00:00\\nCont-0003\\t38\\tFinal inspection and certification of North Ridge water reservoir construction.\\t43531.15\\t2022-10-08 00:00:00\\t1/26/2023\\n*/\\n\\n\\nCREATE TABLE \"CostCodes\" (\\n\\t\"CostCodeID\" TEXT, \\n\\t\"CostCodeDescription\" TEXT\\n)\\n\\n/*\\n3 rows from CostCodes table:\\nCostCodeID\\tCostCodeDescription\\nCCo-01\\tDirect Labor\\nCCo-02\\tDirect Materials\\nCCo-03\\tDirect Equipment\\n*/\\n\\n\\nCREATE TABLE \"Employee\" (\\n\\t\"EmployeeID\" INTEGER, \\n\\t\"EmployeeName\" TEXT, \\n\\t\"Role\" TEXT, \\n\\t\"HourlyRate\" REAL\\n)\\n\\n/*\\n3 rows from Employee table:\\nEmployeeID\\tEmployeeName\\tRole\\tHourlyRate\\n1\\tKenneth Preston\\tCivil Engineer\\t43.02\\n2\\tRobert Little\\tBuilding Inspector\\t52.13\\n3\\tEdwin Gallagher\\tBuilding Inspector\\t52.13\\n*/\\n\\n\\nCREATE TABLE \"Expense\" (\\n\\t\"ExpenseID\" TEXT, \\n\\t\"ProjectID\" INTEGER, \\n\\t\"TaskID\" TEXT, \\n\\t\"ExpenseType\" TEXT, \\n\\t\"Amount\" REAL, \\n\\t\"Date\" TEXT, \\n\\t\"CostCodeID\" TEXT\\n)\\n\\n/*\\n3 rows from Expense table:\\nExpenseID\\tProjectID\\tTaskID\\tExpenseType\\tAmount\\tDate\\tCostCodeID\\nE-0001\\t21\\tT-206\\tSite Preparation and Cleanup\\t-68371.21\\t2020-07-08 00:00:00\\tCCo-13\\nE-0002\\t36\\tT-371\\tSubcontractor Costs\\t769579.03\\t3/28/2022\\tCCo-10\\nE-0003\\t30\\tT-348\\tGeneral Conditions\\t776231.03\\t5/21/2018\\tCCo-02\\n*/\\n\\n\\nCREATE TABLE \"Invoice\" (\\n\\t\"InvoiceId\" TEXT, \\n\\t\"ProjectId\" INTEGER, \\n\\t\"VendorName\" TEXT, \\n\\t\"InvoiceAmount\" REAL, \\n\\t\"InvoiceDate\" TEXT, \\n\\t\"PaidAmount\" REAL, \\n\\t\"DueDate\" TEXT\\n)\\n\\n/*\\n3 rows from Invoice table:\\nInvoiceId\\tProjectId\\tVendorName\\tInvoiceAmount\\tInvoiceDate\\tPaidAmount\\tDueDate\\nI-0001\\t23\\tFalcon Facility Services\\t295041.35\\t2024-09-01 00:00:00\\t285147.57\\t3/16/2024\\nI-0002\\t45\\tSummit Solutions\\t243246.92\\t10/24/2016\\t198838.96\\t2017-07-06 00:00:00\\nI-0003\\t43\\tUnited Contractors\\t559692.24\\t5/14/2020\\t559692.24\\t11/23/2020\\n*/\\n\\n\\nCREATE TABLE \"Projects\" (\\n\\t\"ProjectID\" INTEGER, \\n\\t\"ProjectName\" TEXT, \\n\\t\"StartDate\" TEXT, \\n\\t\"EndDate\" TEXT, \\n\\t\"Budget\" REAL, \\n\\t\"RevisedBudget\" REAL, \\n\\t\"Original_Estimate\" REAL, \\n\\t\"Revised_Estimate\" REAL, \\n\\t\"ClientID\" INTEGER\\n)\\n\\n/*\\n3 rows from Projects table:\\nProjectID\\tProjectName\\tStartDate\\tEndDate\\tBudget\\tRevisedBudget\\tOriginal_Estimate\\tRevised_Estimate\\tClientID\\n1\\tBridge Construction - Riverdale Bridge\\t8/20/2021\\t4/27/2024\\t3528792.96\\t3580190.01\\t3491069.69\\t3491069.69\\t29\\n2\\tHighway Expansion - Main Street Extension\\t7/22/2020\\t3/23/2022\\t4209064.73\\t4220274.96\\t4288705.77\\t4203047.45\\t181\\n3\\tWater Treatment Plant - Eastside Facility\\t2/27/2019\\t2/27/2021\\t7092487.6\\t7116275.68\\t7203406.15\\t7229824.4\\t133\\n*/\\n\\n\\nCREATE TABLE \"Revenue\" (\\n\\t\"RevenueID\" TEXT, \\n\\t\"ProjectID\" INTEGER, \\n\\t\"Amount\" REAL, \\n\\t\"Date\" TEXT, \\n\\t\"CostCodeID\" TEXT\\n)\\n\\n/*\\n3 rows from Revenue table:\\nRevenueID\\tProjectID\\tAmount\\tDate\\tCostCodeID\\nR-0001\\t32\\t7725660.08\\t7/28/2019\\tCCo-12\\nR-0002\\t36\\t780759.55\\t2016-01-04 00:00:00\\tCCo-02\\nR-0003\\t41\\t4519771.69\\t2018-03-10 00:00:00\\tCCo-05\\n*/\\n\\n\\nCREATE TABLE \"SubContract\" (\\n\\t\"SubcontractID\" TEXT, \\n\\t\"ProjectID\" INTEGER, \\n\\t\"SubcontractorName\" TEXT, \\n\\t\"ContractAmount\" REAL, \\n\\t\"CommittedAmount\" REAL, \\n\\t\"PaidAmount\" REAL, \\n\\t\"Date\" TEXT\\n)\\n\\n/*\\n3 rows from SubContract table:\\nSubcontractID\\tProjectID\\tSubcontractorName\\tContractAmount\\tCommittedAmount\\tPaidAmount\\tDate\\nSC-0001\\t45\\tPlumbing Services\\t341652.45\\t416288.31\\t341652.45\\t1/31/2018\\nSC-0002\\t48\\tLighting Systems\\t855416.62\\t809714.55\\t855416.62\\t2021-10-07 00:00:00\\nSC-0003\\t31\\tHVAC Installation\\t29500.58\\t0.0\\t-14304.65\\t2017-10-09 00:00:00\\n*/\\n\\n\\nCREATE TABLE \"Task\" (\\n\\t\"TaskID\" TEXT, \\n\\t\"ProjectID\" INTEGER, \\n\\t\"TaskName\" TEXT, \\n\\t\"StartDate\" TEXT, \\n\\t\"EndDate\" TEXT, \\n\\t\"Status\" INTEGER, \\n\\t\"BudgetedCost\" REAL, \\n\\t\"ActualCost\" REAL, \\n\\t\"CommittedCost\" REAL, \\n\\t\"CostCodeID\" TEXT\\n)\\n\\n/*\\n3 rows from Task table:\\nTaskID\\tProjectID\\tTaskName\\tStartDate\\tEndDate\\tStatus\\tBudgetedCost\\tActualCost\\tCommittedCost\\tCostCodeID\\nT-001\\t27\\tInterior Fit-Out\\t1/23/2020\\t2/22/2021\\t0\\t121235.8\\t42939.82\\t121235.8\\tCCo-03\\nT-002\\t3\\tFoundation Construction\\t11/14/2017\\t4/16/2020\\t1\\t566066.2\\t602875.8\\t645680.9\\tCCo-05\\nT-003\\t37\\tSite Survey\\t1/27/2022\\t1/27/2022\\t1\\t575075.2\\t575075.2\\t507631.2\\tCCo-09\\n*/\\n\\n\\nCREATE TABLE \"Time_Tracking\" (\\n\\t\"TimeEntryID\" TEXT, \\n\\t\"EmployeeID\" INTEGER, \\n\\t\"TaskID\" TEXT, \\n\\t\"HoursWorked\" REAL, \\n\\t\"Date\" TEXT\\n)\\n\\n/*\\n3 rows from Time_Tracking table:\\nTimeEntryID\\tEmployeeID\\tTaskID\\tHoursWorked\\tDate\\nT-001\\t73\\tT-471\\t5.6\\t2022-11-05 00:00:00\\nT-002\\t117\\tT-232\\t16.3\\t2020-05-09 00:00:00\\nT-003\\t176\\tT-026\\t3.4\\t2022-06-12 00:00:00\\n*/',\n",
       " 'table_names': 'Billing, ChangeOrder, ComplianceIssue, Contract, CostCodes, Employee, Expense, Invoice, Projects, Revenue, SubContract, Task, Time_Tracking'}"
      ]
     },
     "execution_count": 8,
     "metadata": {},
     "output_type": "execute_result"
    }
   ],
   "source": [
    "db.get_context()"
   ]
  },
  {
   "cell_type": "code",
   "execution_count": 15,
   "metadata": {},
   "outputs": [],
   "source": [
    "from langchain_openai import ChatOpenAI\n",
    "llm=ChatOpenAI(model=\"gpt-4o-mini\",temperature=0)"
   ]
  },
  {
   "cell_type": "code",
   "execution_count": 55,
   "metadata": {},
   "outputs": [],
   "source": [
    "from langchain.chains import create_sql_query_chain\n",
    "from langchain.agents import create_sql_agent\n",
    "\n",
    "sql_obj=create_sql_agent(llm=llm ,db=db)\n",
    "ans=sql_obj.run(\"give me the employee name with the highest salary\")\n",
    "\n",
    "# chain=create_sql_query_chain(llm,db)\n",
    "# res=chain.invoke({\"question\":\"how many tasks are there\"})\n"
   ]
  },
  {
   "cell_type": "code",
   "execution_count": 56,
   "metadata": {},
   "outputs": [
    {
     "data": {
      "text/plain": [
       "'Ian Garcia'"
      ]
     },
     "execution_count": 56,
     "metadata": {},
     "output_type": "execute_result"
    }
   ],
   "source": [
    "ans"
   ]
  },
  {
   "cell_type": "code",
   "execution_count": 50,
   "metadata": {},
   "outputs": [],
   "source": [
    "\n",
    "class SQLAgentTool:\n",
    "    \"\"\"\n",
    "    A tool for interacting with a travel-related SQL database using an LLM (Language Model) to generate and execute SQL queries.\n",
    "\n",
    "    This tool enables users to ask travel-related questions, which are transformed into SQL queries by a language model.\n",
    "    The SQL queries are executed on the provided SQLite database, and the results are processed by the language model to\n",
    "    generate a final answer for the user.\n",
    "\n",
    "    Attributes:\n",
    "        sql_agent_llm (ChatOpenAI): An instance of a ChatOpenAI language model used to generate and process SQL queries.\n",
    "        system_role (str): A system prompt template that guides the language model in answering user questions based on SQL query results.\n",
    "        db (SQLDatabase): An instance of the SQL database used to execute queries.\n",
    "        chain (RunnablePassthrough): A chain of operations that creates SQL queries, executes them, and generates a response.\n",
    "\n",
    "    Methods:\n",
    "        __init__: Initializes the TravelSQLAgentTool by setting up the language model, SQL database, and query-answering pipeline.\n",
    "    \"\"\"\n",
    "\n",
    "    def __init__(self, llm: str, sqldb_directory: str, llm_temerature: float) -> None:\n",
    "        \"\"\"\n",
    "        Initializes the TravelSQLAgentTool with the necessary configurations.\n",
    "\n",
    "        Args:\n",
    "            llm (str): The name of the language model to be used for generating and interpreting SQL queries.\n",
    "            sqldb_directory (str): The directory path where the SQLite database is stored.\n",
    "            llm_temerature (float): The temperature setting for the language model, controlling response randomness.\n",
    "        \"\"\"\n",
    "        self.sql_agent_llm = ChatOpenAI(\n",
    "            model=\"gpt-4o-mini\", temperature=0.0)\n",
    "        # self.system_role = \"\"\"Given the following user question, corresponding SQL query, and SQL result, answer the user question.\\n\n",
    "        #     Question: {question}\\n\n",
    "        #     SQL Query: {query}\\n\n",
    "        #     SQL Result: {result}\\n\n",
    "        #     Answer:\n",
    "        #     \"\"\"\n",
    "        self.db = SQLDatabase.from_uri(\n",
    "            f\"sqlite:///{sqldb_directory}\")\n",
    "        print(self.db.get_usable_table_names())\n",
    "\n",
    "        print(\"table name printed\")\n",
    "\n",
    "        self.chain=create_sql_agent(llm=self.sql_agent_llm , db=self.db)\n",
    "\n",
    "        # execute_query = QuerySQLDataBaseTool(db=self.db)\n",
    "        # write_query = create_sql_query_chain(\n",
    "        #     self.sql_agent_llm, self.db)\n",
    "        # answer_prompt = PromptTemplate.from_template(\n",
    "        #     self.system_role)\n",
    "\n",
    "        # answer = answer_prompt | self.sql_agent_llm | StrOutputParser()\n",
    "        # self.chain = (\n",
    "        #     RunnablePassthrough.assign(query=write_query).assign(\n",
    "        #         result=itemgetter(\"query\") | execute_query\n",
    "        #     )\n",
    "        #     | answer\n",
    "        # )"
   ]
  },
  {
   "cell_type": "code",
   "execution_count": null,
   "metadata": {},
   "outputs": [],
   "source": [
    "from langchain_core.tools import tool\n",
    "@tool\n",
    "def query_sqldb(query: str) -> str:\n",
    "    \"\"\"Query SQL Database and access all the information. Input should be a search query.\"\"\"\n",
    "    agent = SQLAgentTool(\n",
    "        llm=\"gpt-4o-mini\",\n",
    "        sqldb_directory=\"BIRD (1).db\",\n",
    "        llm_temerature=0.0\n",
    "    )\n",
    "    # response = agent.chain.run({\"question\": query})\n",
    "    response = agent.chain.run(query)\n",
    "\n",
    "    return response"
   ]
  },
  {
   "cell_type": "code",
   "execution_count": 54,
   "metadata": {},
   "outputs": [
    {
     "name": "stdout",
     "output_type": "stream",
     "text": [
      "['Billing', 'ChangeOrder', 'ComplianceIssue', 'Contract', 'CostCodes', 'Employee', 'Expense', 'Invoice', 'Projects', 'Revenue', 'SubContract', 'Task', 'Time_Tracking']\n",
      "table name printed\n"
     ]
    },
    {
     "data": {
      "text/plain": [
       "'There are 13 tables in the database: Billing, ChangeOrder, ComplianceIssue, Contract, CostCodes, Employee, Expense, Invoice, Projects, Revenue, SubContract, Task, Time_Tracking.'"
      ]
     },
     "execution_count": 54,
     "metadata": {},
     "output_type": "execute_result"
    }
   ],
   "source": [
    "query_sqldb(\"How many tables do I have in the database? and what are their names?\")"
   ]
  },
  {
   "cell_type": "code",
   "execution_count": 35,
   "metadata": {},
   "outputs": [
    {
     "name": "stdout",
     "output_type": "stream",
     "text": [
      "There are 12 tables in the database: Billing, ChangeOrder, ComplianceIssue, Contract, CostCodes, Employee, Expense, Invoice, Projects, Revenue, SubContract, Task, Time_Tracking.\n"
     ]
    }
   ],
   "source": [
    "print(ans)"
   ]
  },
  {
   "cell_type": "code",
   "execution_count": 23,
   "metadata": {},
   "outputs": [
    {
     "data": {
      "text/plain": [
       "'You are a SQLite expert. Given an input question, first create a syntactically correct SQLite query to run, then look at the results of the query and return the answer to the input question.\\nUnless the user specifies in the question a specific number of examples to obtain, query for at most {top_k} results using the LIMIT clause as per SQLite. You can order the results to return the most informative data in the database.\\nNever query for all columns from a table. You must query only the columns that are needed to answer the question. Wrap each column name in double quotes (\") to denote them as delimited identifiers.\\nPay attention to use only the column names you can see in the tables below. Be careful to not query for columns that do not exist. Also, pay attention to which column is in which table.\\nPay attention to use date(\\'now\\') function to get the current date, if the question involves \"today\".\\n\\nUse the following format:\\n\\nQuestion: Question here\\nSQLQuery: SQL Query to run\\nSQLResult: Result of the SQLQuery\\nAnswer: Final answer here\\n\\nOnly use the following tables:\\n{table_info}\\n\\nQuestion: {input}'"
      ]
     },
     "execution_count": 23,
     "metadata": {},
     "output_type": "execute_result"
    }
   ],
   "source": [
    "chain.get_prompts()[0].template"
   ]
  },
  {
   "cell_type": "code",
   "execution_count": 24,
   "metadata": {},
   "outputs": [
    {
     "data": {
      "text/plain": [
       "'You are a SQLite expert. Given an input question, first create a syntactically correct SQLite query to run, then look at the results of the query and return the answer to the input question.\\nUnless the user specifies in the question a specific number of examples to obtain, query for at most {top_k} results using the LIMIT clause as per SQLite. You can order the results to return the most informative data in the database.\\nNever query for all columns from a table. You must query only the columns that are needed to answer the question. Wrap each column name in double quotes (\") to denote them as delimited identifiers.\\nPay attention to use only the column names you can see in the tables below. Be careful to not query for columns that do not exist. Also, pay attention to which column is in which table.\\nPay attention to use date(\\'now\\') function to get the current date, if the question involves \"today\".\\n\\nUse the following format:\\n\\nQuestion: Question here\\nSQLQuery: SQL Query to run\\nSQLResult: Result of the SQLQuery\\nAnswer: Final answer here\\n\\nOnly use the following tables:\\n{table_info}\\n\\nQuestion: {input}'"
      ]
     },
     "execution_count": 24,
     "metadata": {},
     "output_type": "execute_result"
    }
   ],
   "source": [
    "'You are a SQLite expert. Given an input question, first create a syntactically correct SQLite query to run, then look at the results of the query and return the answer to the input question.\\nUnless the user specifies in the question a specific number of examples to obtain, query for at most {top_k} results using the LIMIT clause as per SQLite. You can order the results to return the most informative data in the database.\\nNever query for all columns from a table. You must query only the columns that are needed to answer the question. Wrap each column name in double quotes (\") to denote them as delimited identifiers.\\nPay attention to use only the column names you can see in the tables below. Be careful to not query for columns that do not exist. Also, pay attention to which column is in which table.\\nPay attention to use date(\\'now\\') function to get the current date, if the question involves \"today\".\\n\\nUse the following format:\\n\\nQuestion: Question here\\nSQLQuery: SQL Query to run\\nSQLResult: Result of the SQLQuery\\nAnswer: Final answer here\\n\\nOnly use the following tables:\\n{table_info}\\n\\nQuestion: {input}'"
   ]
  },
  {
   "cell_type": "code",
   "execution_count": 30,
   "metadata": {},
   "outputs": [
    {
     "data": {
      "text/plain": [
       "'Error: (sqlite3.OperationalError) near \"SQLQuery\": syntax error\\n[SQL: SQLQuery: SELECT COUNT(\"TaskID\") AS \"TotalTasks\" FROM \"Task\";]\\n(Background on this error at: https://sqlalche.me/e/20/e3q8)'"
      ]
     },
     "execution_count": 30,
     "metadata": {},
     "output_type": "execute_result"
    }
   ],
   "source": [
    "from langchain_community.tools.sql_database.tool import QuerySQLDataBaseTool\n",
    "write_query=create_sql_query_chain(llm,db)\n",
    "execute_query=QuerySQLDataBaseTool(db=db)\n",
    "\n",
    "chain= write_query | execute_query\n",
    "chain.invoke({\"question\":\"how many tasks are there\"})"
   ]
  },
  {
   "cell_type": "code",
   "execution_count": 31,
   "metadata": {},
   "outputs": [
    {
     "data": {
      "text/plain": [
       "True"
      ]
     },
     "execution_count": 31,
     "metadata": {},
     "output_type": "execute_result"
    }
   ],
   "source": [
    "\n",
    "from pyprojroot import here\n",
    "from langchain_community.utilities import SQLDatabase\n",
    "from langchain.chains import create_sql_query_chain\n",
    "from langchain_community.tools.sql_database.tool import QuerySQLDataBaseTool\n",
    "from langchain_core.prompts import PromptTemplate\n",
    "from langchain_core.output_parsers import StrOutputParser\n",
    "from langchain_core.runnables import RunnablePassthrough\n",
    "from operator import itemgetter\n",
    "from langchain_openai import ChatOpenAI\n",
    "import os\n",
    "from dotenv import load_dotenv\n",
    "load_dotenv()"
   ]
  },
  {
   "cell_type": "code",
   "execution_count": 32,
   "metadata": {},
   "outputs": [],
   "source": [
    "system_role = \"\"\"Given the following user question, corresponding SQL query, and SQL result, answer the user question.\\n\n",
    "    Question: {question}\\n\n",
    "    SQL Query: {query}\\n\n",
    "    SQL Result: {result}\\n\n",
    "    Answer:\n",
    "    \"\"\"\n",
    "\n",
    "execute_query = QuerySQLDataBaseTool(db=db)\n",
    "write_query = create_sql_query_chain(\n",
    "    llm, db)\n",
    "answer_prompt = PromptTemplate.from_template(\n",
    "    system_role)\n",
    "answer = answer_prompt | llm | StrOutputParser()\n",
    "chain = (\n",
    "    RunnablePassthrough.assign(query=write_query).assign(\n",
    "        result=itemgetter(\"query\") | execute_query\n",
    "    )\n",
    "    | answer\n",
    ")"
   ]
  },
  {
   "cell_type": "code",
   "execution_count": 33,
   "metadata": {},
   "outputs": [
    {
     "data": {
      "text/plain": [
       "'It seems there was an error in the SQL query you attempted to run. The correct SQL query to find out how many tables you have in the database and their names is:\\n\\n```sql\\nSELECT \"name\" FROM sqlite_master WHERE \"type\" = \\'table\\';\\n```\\n\\nHowever, since the query resulted in an error, it indicates that there might have been an issue with how the query was executed or formatted. \\n\\nTo answer your question, you need to run the corrected SQL query without any additional text (like \"SQLQuery:\") before it. Once you run the correct query, you will get a list of table names in your database. \\n\\nIf the query executes successfully, you can count the number of rows returned to determine how many tables you have, and the names of the tables will be listed in the result.'"
      ]
     },
     "execution_count": 33,
     "metadata": {},
     "output_type": "execute_result"
    }
   ],
   "source": [
    "message = \"How many tables do I have in the database? and what are their names?\"\n",
    "response = chain.invoke({\"question\": message})\n",
    "response"
   ]
  },
  {
   "cell_type": "code",
   "execution_count": null,
   "metadata": {},
   "outputs": [],
   "source": []
  }
 ],
 "metadata": {
  "kernelspec": {
   "display_name": "rag_graph",
   "language": "python",
   "name": "python3"
  },
  "language_info": {
   "codemirror_mode": {
    "name": "ipython",
    "version": 3
   },
   "file_extension": ".py",
   "mimetype": "text/x-python",
   "name": "python",
   "nbconvert_exporter": "python",
   "pygments_lexer": "ipython3",
   "version": "3.11.11"
  }
 },
 "nbformat": 4,
 "nbformat_minor": 2
}
