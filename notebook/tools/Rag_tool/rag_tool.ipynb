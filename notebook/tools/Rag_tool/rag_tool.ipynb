{
 "cells": [
  {
   "cell_type": "code",
   "execution_count": 16,
   "metadata": {},
   "outputs": [],
   "source": [
    "from langchain_chroma import Chroma\n",
    "import os\n",
    "import chromadb\n",
    "from pyprojroot import here\n",
    "from langchain_openai import OpenAIEmbeddings\n",
    "from openai import OpenAI\n",
    "from dotenv import load_dotenv\n",
    "from pprint import pprint\n",
    "load_dotenv()\n",
    "os.environ[\"OPENAI_API_KEY\"] = os.getenv(\"OPENAI_API_KEY\")\n"
   ]
  },
  {
   "cell_type": "code",
   "execution_count": 21,
   "metadata": {},
   "outputs": [
    {
     "name": "stdout",
     "output_type": "stream",
     "text": [
      "c:\\Users\\High-Tech\n"
     ]
    },
    {
     "data": {
      "text/plain": [
       "'c:\\\\Users\\\\High-Tech\\\\data\\\\document_vectordb'"
      ]
     },
     "execution_count": 21,
     "metadata": {},
     "output_type": "execute_result"
    }
   ],
   "source": [
    "root_dir=here()\n",
    "print(root_dir)\n",
    "VECTORDB_DIR = \"data\\document_vectordb\"\n",
    "str(here(VECTORDB_DIR))"
   ]
  },
  {
   "cell_type": "code",
   "execution_count": null,
   "metadata": {},
   "outputs": [
    {
     "name": "stdout",
     "output_type": "stream",
     "text": [
      "Number of vectors in vectordb: 6 \n",
      "\n",
      "\n"
     ]
    }
   ],
   "source": [
    "EMBEDDING_MODEL = \"text-embedding-3-small\"\n",
    "VECTORDB_DIR = \"data\\document_vectordb\"\n",
    "\n",
    "vectordb = Chroma(\n",
    "    collection_name=\"rag-chroma\",\n",
    "    persist_directory=str(here(VECTORDB_DIR)),\n",
    "    embedding_function=OpenAIEmbeddings(model=EMBEDDING_MODEL)\n",
    ")\n",
    "print(\"Number of vectors in vectordb:\",\n",
    "      vectordb._collection.count(), \"\\n\\n\")\n",
    "\n",
    "\n"
   ]
  },
  {
   "cell_type": "code",
   "execution_count": 22,
   "metadata": {},
   "outputs": [],
   "source": [
    "message=\"can you describe me what is Amarok the lone wolf in 30 words? \""
   ]
  },
  {
   "cell_type": "code",
   "execution_count": 23,
   "metadata": {},
   "outputs": [],
   "source": [
    "docs=vectordb.similarity_search(message,k=2)"
   ]
  },
  {
   "cell_type": "code",
   "execution_count": 24,
   "metadata": {},
   "outputs": [
    {
     "data": {
      "text/plain": [
       "[Document(id='f2a09c00-045c-4a90-96b4-9a42c0a404a4', metadata={'page': 0, 'page_label': '1', 'source': 'data/unstructured_data\\\\stories.pdf'}, page_content=\"Amarok the lone wolf \\nIn the shadowed embrace of the Alaskan mountains, where the snow blankets the earth in a pristine \\nwhite and the northern lights dance across the sky like ethereal spirits, there lived a lone wolf named \\nAmarok. His coat was a tapestry of silver and midnight, a reflection of the landscape he called home. \\nAmarok was a creature of solitude, but his heart ached with the memory of the family he had lost to the \\nunforgiving wilderness. \\nAmarok's journey began on a day when the sky wept snowflakes as large as feathers, and the wind \\nwhispered secrets only the mountains could understand. He had been separated from his pack during a \\nfierce winter storm that had descended upon them like a ravenous beast. The pack had been everything \\nto Amarok: his community, his support, his family. Now, he roamed the vast expanse of the Alaskan \\nrange, driven by a deep longing to find them. \\nEach day was a testament to his resilience. Amarok traversed steep cliffs that clawed at the sky, crossed \\nfrozen rivers that mirrored the heavens, and navigated dense forests that stood as silent sentinels. His \\nkeen senses were his guide; his howl, a song of both sorrow and hope, echoed through the valleys, a call \\nto the family he yearned to see once more. \\nAs the seasons turned, Amarok's search led him to the heart of the mountains, where the air was thin \\nand the stars seemed close enough to touch. It was here, in the realm of the eagles, that Amarok found \\na clue. A familiar scent carried on the breeze, a scent that quickened his pulse and filled his being with a \\nmixture of excitement and trepidation. It was the unmistakable scent of his pack. \\nWith renewed vigor, Amarok followed the trail, his paws barely touching the snow as he raced against \\ntime. The scent grew stronger, guiding him over a ridge that revealed a valley cradled by the mountains. \\nAnd there, in the distance, he saw them: his family, alive and thriving. They were playing, their bodies a\"),\n",
       " Document(id='ad8e518e-eb20-45b9-81a3-2e8627440518', metadata={'page': 0, 'page_label': '1', 'source': 'data/unstructured_data\\\\stories.pdf'}, page_content=\"mixture of excitement and trepidation. It was the unmistakable scent of his pack. \\nWith renewed vigor, Amarok followed the trail, his paws barely touching the snow as he raced against \\ntime. The scent grew stronger, guiding him over a ridge that revealed a valley cradled by the mountains. \\nAnd there, in the distance, he saw them: his family, alive and thriving. They were playing, their bodies a \\nblur of motion against the stark landscape, their joyful yips reaching Amarok's ears like a melody long \\nforgotten. \\nAmarok approached cautiously, his heart pounding with a mixture of joy and uncertainty. Would they \\nremember him? Would they accept him back into the fold? As he neared, the pack caught sight of him. \\nFor a moment, time stood still, the only movement the gentle fall of snowflakes between them. \\nThen, recognition sparked in their eyes, and one by one, they came forward. Nuzzles and licks were \\nexchanged, each touch a word in the silent language of wolves. Amarok was home. The pack was whole \\nonce more, and together, they raised their voices to the sky, a chorus of unity and belonging that \\nresonated through the mountains of Alaska. \\nAmarok, the lone wolf who had braved the wilderness in search of his family, had found more than he \\nhad ever hoped for. He had found his way back to love, to connection, to the place where his spirit ran \\nfree. And there, amidst the peaks that touched the heavens, he knew he would never be alone again.\")]"
      ]
     },
     "execution_count": 24,
     "metadata": {},
     "output_type": "execute_result"
    }
   ],
   "source": [
    "docs"
   ]
  },
  {
   "cell_type": "code",
   "execution_count": 25,
   "metadata": {},
   "outputs": [],
   "source": [
    "from langchain_core.tools import tool\n",
    "\n",
    "@tool\n",
    "def lookup_documnet(query: str)->str:\n",
    "    \"\"\"Search within the given document to check whether certain options are permitted. Input should be a search query.\"\"\"\n",
    "    vectordb = Chroma(\n",
    "    collection_name=\"rag-chroma\",\n",
    "    persist_directory=str(VECTORDB_DIR),\n",
    "    embedding_function=OpenAIEmbeddings(model=EMBEDDING_MODEL)\n",
    "    )\n",
    "    docs = vectordb.similarity_search(query, k=2)\n",
    "    return \"\\n\\n\".join([doc.page_content for doc in docs])"
   ]
  },
  {
   "cell_type": "code",
   "execution_count": 26,
   "metadata": {},
   "outputs": [
    {
     "name": "stdout",
     "output_type": "stream",
     "text": [
      "lookup_documnet\n",
      "{'query': {'title': 'Query', 'type': 'string'}}\n",
      "Search within the given document to check whether certain options are permitted. Input should be a search query.\n"
     ]
    }
   ],
   "source": [
    "print(lookup_documnet.name)\n",
    "print(lookup_documnet.args)\n",
    "print(lookup_documnet.description)"
   ]
  },
  {
   "cell_type": "code",
   "execution_count": null,
   "metadata": {},
   "outputs": [],
   "source": []
  }
 ],
 "metadata": {
  "kernelspec": {
   "display_name": "rag_graph",
   "language": "python",
   "name": "python3"
  },
  "language_info": {
   "codemirror_mode": {
    "name": "ipython",
    "version": 3
   },
   "file_extension": ".py",
   "mimetype": "text/x-python",
   "name": "python",
   "nbconvert_exporter": "python",
   "pygments_lexer": "ipython3",
   "version": "3.11.11"
  }
 },
 "nbformat": 4,
 "nbformat_minor": 2
}
