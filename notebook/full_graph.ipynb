{
 "cells": [
  {
   "cell_type": "code",
   "execution_count": 30,
   "metadata": {},
   "outputs": [
    {
     "data": {
      "text/plain": [
       "True"
      ]
     },
     "execution_count": 30,
     "metadata": {},
     "output_type": "execute_result"
    }
   ],
   "source": [
    "import os\n",
    "from dotenv import load_dotenv\n",
    "from pyprojroot import here\n",
    "\n",
    "load_dotenv()"
   ]
  },
  {
   "cell_type": "code",
   "execution_count": 31,
   "metadata": {},
   "outputs": [],
   "source": [
    "os.environ[\"OPENAI_API_KEY\"] = os.getenv(\"OPENAI_API_KEY\")\n",
    "os.environ['TAVILY_API_KEY'] = os.getenv(\"TAVILY_API_KEY\")\n"
   ]
  },
  {
   "cell_type": "code",
   "execution_count": 32,
   "metadata": {},
   "outputs": [],
   "source": [
    "from langchain_core.tools import tool\n",
    "from langchain_chroma import Chroma\n",
    "from langchain_openai import OpenAIEmbeddings\n",
    "\n",
    "EMBEDDING_MODEL = \"text-embedding-3-small\"\n",
    "VECTORDB_DIR = \"data\\document_vectordb\"\n",
    "\n",
    "\n",
    "@tool\n",
    "def lookup_documnet(query: str)->str:\n",
    "    \"\"\"Search within the given document to check whether certain options are permitted. Input should be a search query.\"\"\"\n",
    "    vectordb = Chroma(\n",
    "        collection_name=\"rag-chroma\",\n",
    "        persist_directory=str(here(VECTORDB_DIR)),\n",
    "        embedding_function=OpenAIEmbeddings(model=EMBEDDING_MODEL)\n",
    "    )\n",
    "    \n",
    "    docs = vectordb.similarity_search(query, k=2)\n",
    "    return \"\\n\\n\".join([doc.page_content for doc in docs])"
   ]
  },
  {
   "cell_type": "code",
   "execution_count": 33,
   "metadata": {},
   "outputs": [
    {
     "name": "stdout",
     "output_type": "stream",
     "text": [
      "lookup_documnet\n",
      "{'query': {'title': 'Query', 'type': 'string'}}\n",
      "Search within the given document to check whether certain options are permitted. Input should be a search query.\n"
     ]
    }
   ],
   "source": [
    "print(lookup_documnet.name)\n",
    "print(lookup_documnet.args)\n",
    "print(lookup_documnet.description)"
   ]
  },
  {
   "cell_type": "code",
   "execution_count": 34,
   "metadata": {},
   "outputs": [
    {
     "data": {
      "text/plain": [
       "\"Amarok the lone wolf \\nIn the shadowed embrace of the Alaskan mountains, where the snow blankets the earth in a pristine \\nwhite and the northern lights dance across the sky like ethereal spirits, there lived a lone wolf named \\nAmarok. His coat was a tapestry of silver and midnight, a reflection of the landscape he called home. \\nAmarok was a creature of solitude, but his heart ached with the memory of the family he had lost to the \\nunforgiving wilderness. \\nAmarok's journey began on a day when the sky wept snowflakes as large as feathers, and the wind \\nwhispered secrets only the mountains could understand. He had been separated from his pack during a \\nfierce winter storm that had descended upon them like a ravenous beast. The pack had been everything \\nto Amarok: his community, his support, his family. Now, he roamed the vast expanse of the Alaskan \\nrange, driven by a deep longing to find them. \\nEach day was a testament to his resilience. Amarok traversed steep cliffs that clawed at the sky, crossed \\nfrozen rivers that mirrored the heavens, and navigated dense forests that stood as silent sentinels. His \\nkeen senses were his guide; his howl, a song of both sorrow and hope, echoed through the valleys, a call \\nto the family he yearned to see once more. \\nAs the seasons turned, Amarok's search led him to the heart of the mountains, where the air was thin \\nand the stars seemed close enough to touch. It was here, in the realm of the eagles, that Amarok found \\na clue. A familiar scent carried on the breeze, a scent that quickened his pulse and filled his being with a \\nmixture of excitement and trepidation. It was the unmistakable scent of his pack. \\nWith renewed vigor, Amarok followed the trail, his paws barely touching the snow as he raced against \\ntime. The scent grew stronger, guiding him over a ridge that revealed a valley cradled by the mountains. \\nAnd there, in the distance, he saw them: his family, alive and thriving. They were playing, their bodies a\\n\\nmixture of excitement and trepidation. It was the unmistakable scent of his pack. \\nWith renewed vigor, Amarok followed the trail, his paws barely touching the snow as he raced against \\ntime. The scent grew stronger, guiding him over a ridge that revealed a valley cradled by the mountains. \\nAnd there, in the distance, he saw them: his family, alive and thriving. They were playing, their bodies a \\nblur of motion against the stark landscape, their joyful yips reaching Amarok's ears like a melody long \\nforgotten. \\nAmarok approached cautiously, his heart pounding with a mixture of joy and uncertainty. Would they \\nremember him? Would they accept him back into the fold? As he neared, the pack caught sight of him. \\nFor a moment, time stood still, the only movement the gentle fall of snowflakes between them. \\nThen, recognition sparked in their eyes, and one by one, they came forward. Nuzzles and licks were \\nexchanged, each touch a word in the silent language of wolves. Amarok was home. The pack was whole \\nonce more, and together, they raised their voices to the sky, a chorus of unity and belonging that \\nresonated through the mountains of Alaska. \\nAmarok, the lone wolf who had braved the wilderness in search of his family, had found more than he \\nhad ever hoped for. He had found his way back to love, to connection, to the place where his spirit ran \\nfree. And there, amidst the peaks that touched the heavens, he knew he would never be alone again.\""
      ]
     },
     "execution_count": 34,
     "metadata": {},
     "output_type": "execute_result"
    }
   ],
   "source": [
    "lookup_documnet.invoke(\"can you describe me what is Amarok the lone wolf in 30 words?\")"
   ]
  },
  {
   "cell_type": "code",
   "execution_count": 35,
   "metadata": {},
   "outputs": [],
   "source": [
    "from langchain_community.tools.tavily_search import TavilySearchResults\n",
    "search_tool = TavilySearchResults(max_results=2)"
   ]
  },
  {
   "cell_type": "code",
   "execution_count": 36,
   "metadata": {},
   "outputs": [
    {
     "data": {
      "text/plain": [
       "[{'url': 'https://medium.com/@kbdhunga/beginners-guide-to-langgraph-understanding-state-nodes-and-edges-part-1-897e6114fa48',\n",
       "  'content': \"Beginner’s Guide to LangGraph: Understanding State, Nodes, and Edges — Part 1 | by Kamal Dhungana | Medium Beginner’s Guide to LangGraph: Understanding State, Nodes, and Edges — Part 1 LangGraph — State, Node and Edge Explained Mainly, we will focus on various components of LangGraph: State, Node, and Edges, and how to build a complete graph from these components. Once we understand these components, we will be able to build relatively complex LangGraph-based agents. Each node represents a specific function or operation that processes the current state. Nodes can perform computations, modify the state, or generate outputs based on the input they receive. Follow 1.2K Followers Data scientist with a passion for AI, Regularly blogging about LLM and OpenAI's innovations,Sharing insights for AI community growth Follow\"},\n",
       " {'url': 'https://blog.langchain.dev/langgraph/',\n",
       "  'content': 'TL;DR: LangGraph is module built on top of LangChain to better enable creation of cyclical graphs, often needed for agent runtimes. This state is updated by nodes in the graph, which return operations to attributes of this state (in the form of a key-value store). After adding nodes, you can then add edges to create the graph. An example of this may be in the basic agent runtime, where we always want the model to be called after we call a tool. graph.add_edge(\"tools\", \"model\") The state of this graph by default contains concepts that should be familiar to you if you\\'ve used LangChain agents: input, chat_history, intermediate_steps (and agent_outcome to represent the most recent agent outcome)'}]"
      ]
     },
     "execution_count": 36,
     "metadata": {},
     "output_type": "execute_result"
    }
   ],
   "source": [
    "search_tool.invoke(\"What's a 'node' in LangGraph?\")\n"
   ]
  },
  {
   "cell_type": "code",
   "execution_count": 37,
   "metadata": {},
   "outputs": [
    {
     "name": "stdout",
     "output_type": "stream",
     "text": [
      "A search engine optimized for comprehensive, accurate, and trusted results. Useful for when you need to answer questions about current events. Input should be a search query.\n"
     ]
    }
   ],
   "source": [
    "print(search_tool.description)"
   ]
  },
  {
   "cell_type": "code",
   "execution_count": 38,
   "metadata": {},
   "outputs": [],
   "source": [
    "from langchain_openai import ChatOpenAI\n",
    "from langchain_community.utilities import SQLDatabase\n",
    "from langchain.agents import create_sql_agent\n",
    "from langchain_community.utilities import SQLDatabase\n",
    "\n",
    "class SQLAgentTool:\n",
    "    \"\"\"\n",
    "    A tool for interacting with a travel-related SQL database using an LLM (Language Model) to generate and execute SQL queries.\n",
    "\n",
    "    This tool enables users to ask travel-related questions, which are transformed into SQL queries by a language model.\n",
    "    The SQL queries are executed on the provided SQLite database, and the results are processed by the language model to\n",
    "    generate a final answer for the user.\n",
    "\n",
    "    Attributes:\n",
    "        sql_agent_llm (ChatOpenAI): An instance of a ChatOpenAI language model used to generate and process SQL queries.\n",
    "        system_role (str): A system prompt template that guides the language model in answering user questions based on SQL query results.\n",
    "        db (SQLDatabase): An instance of the SQL database used to execute queries.\n",
    "        chain (RunnablePassthrough): A chain of operations that creates SQL queries, executes them, and generates a response.\n",
    "\n",
    "    Methods:\n",
    "        __init__: Initializes the TravelSQLAgentTool by setting up the language model, SQL database, and query-answering pipeline.\n",
    "    \"\"\"\n",
    "\n",
    "    def __init__(self, llm: str, sqldb_directory: str, llm_temerature: float) -> None:\n",
    "        \"\"\"\n",
    "        Initializes the TravelSQLAgentTool with the necessary configurations.\n",
    "\n",
    "        Args:\n",
    "            llm (str): The name of the language model to be used for generating and interpreting SQL queries.\n",
    "            sqldb_directory (str): The directory path where the SQLite database is stored.\n",
    "            llm_temerature (float): The temperature setting for the language model, controlling response randomness.\n",
    "        \"\"\"\n",
    "        self.sql_agent_llm = ChatOpenAI(\n",
    "            model=llm, temperature=llm_temerature)\n",
    "        # self.system_role = \"\"\"Given the following user question, corresponding SQL query, and SQL result, answer the user question.\\n\n",
    "        #     Question: {question}\\n\n",
    "        #     SQL Query: {query}\\n\n",
    "        #     SQL Result: {result}\\n\n",
    "        #     Answer:\n",
    "        #     \"\"\"\n",
    "        self.db = SQLDatabase.from_uri(f\"sqlite:///{sqldb_directory}\")\n",
    "        print(self.db.get_usable_table_names())\n",
    "\n",
    "        print(\"table name printed\")\n",
    "\n",
    "        self.chain=create_sql_agent(llm=self.sql_agent_llm , db=self.db ,agent_executor_kwargs={\n",
    "            \"handle_parsing_errors\": True\n",
    "        })\n",
    "\n",
    "        # execute_query = QuerySQLDataBaseTool(db=self.db)\n",
    "        # write_query = create_sql_query_chain(\n",
    "        #     self.sql_agent_llm, self.db)\n",
    "        # answer_prompt = PromptTemplate.from_template(\n",
    "        #     self.system_role)\n",
    "\n",
    "        # answer = answer_prompt | self.sql_agent_llm | StrOutputParser()\n",
    "        # self.chain = (\n",
    "        #     RunnablePassthrough.assign(query=write_query).assign(\n",
    "        #         result=itemgetter(\"query\") | execute_query\n",
    "        #     )\n",
    "        #     | answer\n",
    "        # )\n",
    "\n",
    "from langchain_core.tools import tool\n",
    "llm_model=\"gpt-4o-mini\"\n",
    "sqldb_directory_path=\"BIRD (1).db\"\n",
    "llm_temerature_arg=0.0\n",
    "\n",
    "\n",
    "@tool\n",
    "def query_sqldb(query: str) -> str:\n",
    "    \"\"\"Query SQL Database and access all the information. Input should be a search query.\"\"\"\n",
    "    agent = SQLAgentTool(\n",
    "        llm=\"gpt-4o-mini\",\n",
    "        sqldb_directory=\"BIRD (1).db\",\n",
    "        llm_temerature=0.2\n",
    "    )\n",
    "    # response = agent.chain.run({\"question\": query})\n",
    "    response = agent.chain.run(query)\n",
    "\n",
    "    return response"
   ]
  },
  {
   "cell_type": "code",
   "execution_count": 39,
   "metadata": {},
   "outputs": [
    {
     "name": "stdout",
     "output_type": "stream",
     "text": [
      "{'query': {'title': 'Query', 'type': 'string'}}\n",
      "Query SQL Database and access all the information. Input should be a search query.\n"
     ]
    }
   ],
   "source": [
    "print(query_sqldb.args)\n",
    "print(query_sqldb.description)"
   ]
  },
  {
   "cell_type": "code",
   "execution_count": 40,
   "metadata": {},
   "outputs": [],
   "source": [
    "tools=[search_tool,lookup_documnet,query_sqldb]"
   ]
  },
  {
   "cell_type": "code",
   "execution_count": 41,
   "metadata": {},
   "outputs": [],
   "source": [
    "llm=ChatOpenAI(model=\"gpt-4o-mini\" ,temperature=0.5)\n",
    "llm_with_tools=llm.bind_tools(tools)"
   ]
  },
  {
   "cell_type": "code",
   "execution_count": 42,
   "metadata": {},
   "outputs": [],
   "source": [
    "from typing import Annotated\n",
    "from typing_extensions import TypedDict\n",
    "from langgraph.graph import StateGraph,START\n",
    "from langgraph.graph.message import add_messages\n",
    "\n",
    "class State(TypedDict):\n",
    "    messages:Annotated[list,add_messages]\n",
    "\n",
    "graph_builder=StateGraph(State)"
   ]
  },
  {
   "cell_type": "code",
   "execution_count": 43,
   "metadata": {},
   "outputs": [
    {
     "data": {
      "text/plain": [
       "<langgraph.graph.state.StateGraph at 0x1c571b94d50>"
      ]
     },
     "execution_count": 43,
     "metadata": {},
     "output_type": "execute_result"
    }
   ],
   "source": [
    "def chatbot(state:State):\n",
    "    return {\"messages\":[llm_with_tools.invoke(state[\"messages\"])]}\n",
    "\n",
    "graph_builder.add_node(\"chatbot\",chatbot)"
   ]
  },
  {
   "cell_type": "code",
   "execution_count": 44,
   "metadata": {},
   "outputs": [],
   "source": [
    "input={\"messages\":[llm_with_tools.invoke(\"What's a 'node' in LangGraph?\")]}"
   ]
  },
  {
   "cell_type": "code",
   "execution_count": 45,
   "metadata": {},
   "outputs": [
    {
     "name": "stdout",
     "output_type": "stream",
     "text": [
      "{'messages': [AIMessage(content='', additional_kwargs={'tool_calls': [{'id': 'call_y99x5O8EAX38KjivTzNt50O2', 'function': {'arguments': '{\"query\":\"node in LangGraph\"}', 'name': 'tavily_search_results_json'}, 'type': 'function'}], 'refusal': None}, response_metadata={'token_usage': {'completion_tokens': 22, 'prompt_tokens': 155, 'total_tokens': 177, 'completion_tokens_details': {'accepted_prediction_tokens': 0, 'audio_tokens': 0, 'reasoning_tokens': 0, 'rejected_prediction_tokens': 0}, 'prompt_tokens_details': {'audio_tokens': 0, 'cached_tokens': 0}}, 'model_name': 'gpt-4o-mini-2024-07-18', 'system_fingerprint': 'fp_bd83329f63', 'finish_reason': 'tool_calls', 'logprobs': None}, id='run-ccdd8d33-cd4e-4da0-ad42-8ef71b5f5b1b-0', tool_calls=[{'name': 'tavily_search_results_json', 'args': {'query': 'node in LangGraph'}, 'id': 'call_y99x5O8EAX38KjivTzNt50O2', 'type': 'tool_call'}], usage_metadata={'input_tokens': 155, 'output_tokens': 22, 'total_tokens': 177, 'input_token_details': {'audio': 0, 'cache_read': 0}, 'output_token_details': {'audio': 0, 'reasoning': 0}})]}\n",
      "content='' additional_kwargs={'tool_calls': [{'id': 'call_y99x5O8EAX38KjivTzNt50O2', 'function': {'arguments': '{\"query\":\"node in LangGraph\"}', 'name': 'tavily_search_results_json'}, 'type': 'function'}], 'refusal': None} response_metadata={'token_usage': {'completion_tokens': 22, 'prompt_tokens': 155, 'total_tokens': 177, 'completion_tokens_details': {'accepted_prediction_tokens': 0, 'audio_tokens': 0, 'reasoning_tokens': 0, 'rejected_prediction_tokens': 0}, 'prompt_tokens_details': {'audio_tokens': 0, 'cached_tokens': 0}}, 'model_name': 'gpt-4o-mini-2024-07-18', 'system_fingerprint': 'fp_bd83329f63', 'finish_reason': 'tool_calls', 'logprobs': None} id='run-ccdd8d33-cd4e-4da0-ad42-8ef71b5f5b1b-0' tool_calls=[{'name': 'tavily_search_results_json', 'args': {'query': 'node in LangGraph'}, 'id': 'call_y99x5O8EAX38KjivTzNt50O2', 'type': 'tool_call'}] usage_metadata={'input_tokens': 155, 'output_tokens': 22, 'total_tokens': 177, 'input_token_details': {'audio': 0, 'cache_read': 0}, 'output_token_details': {'audio': 0, 'reasoning': 0}}\n",
      "{'name': 'tavily_search_results_json', 'args': {'query': 'node in LangGraph'}, 'id': 'call_y99x5O8EAX38KjivTzNt50O2', 'type': 'tool_call'}\n",
      "tavily_search_results_json\n",
      "{'query': 'node in LangGraph'}\n",
      "{'tavily_search_results_json': TavilySearchResults(max_results=2, api_wrapper=TavilySearchAPIWrapper(tavily_api_key=SecretStr('**********'))), 'lookup_documnet': StructuredTool(name='lookup_documnet', description='Search within the given document to check whether certain options are permitted. Input should be a search query.', args_schema=<class 'langchain_core.utils.pydantic.lookup_documnet'>, func=<function lookup_documnet at 0x000001C5716C8220>), 'query_sqldb': StructuredTool(name='query_sqldb', description='Query SQL Database and access all the information. Input should be a search query.', args_schema=<class 'langchain_core.utils.pydantic.query_sqldb'>, func=<function query_sqldb at 0x000001C571BCC040>)}\n",
      "[{'url': 'https://medium.com/@kbdhunga/beginners-guide-to-langgraph-understanding-state-nodes-and-edges-part-1-897e6114fa48', 'content': \"Beginner’s Guide to LangGraph: Understanding State, Nodes, and Edges — Part 1 | by Kamal Dhungana | Medium Beginner’s Guide to LangGraph: Understanding State, Nodes, and Edges — Part 1 LangGraph — State, Node and Edge Explained Mainly, we will focus on various components of LangGraph: State, Node, and Edges, and how to build a complete graph from these components. Once we understand these components, we will be able to build relatively complex LangGraph-based agents. Each node represents a specific function or operation that processes the current state. Nodes can perform computations, modify the state, or generate outputs based on the input they receive. Follow 1.2K Followers Data scientist with a passion for AI, Regularly blogging about LLM and OpenAI's innovations,Sharing insights for AI community growth Follow\"}, {'url': 'https://blog.langchain.dev/langgraph/', 'content': 'TL;DR: LangGraph is module built on top of LangChain to better enable creation of cyclical graphs, often needed for agent runtimes. This state is updated by nodes in the graph, which return operations to attributes of this state (in the form of a key-value store). After adding nodes, you can then add edges to create the graph. An example of this may be in the basic agent runtime, where we always want the model to be called after we call a tool. graph.add_edge(\"tools\", \"model\") The state of this graph by default contains concepts that should be familiar to you if you\\'ve used LangChain agents: input, chat_history, intermediate_steps (and agent_outcome to represent the most recent agent outcome)'}]\n",
      "[{'url': 'https://medium.com/@kbdhunga/beginners-guide-to-langgraph-understanding-state-nodes-and-edges-part-1-897e6114fa48', 'content': \"Beginner’s Guide to LangGraph: Understanding State, Nodes, and Edges — Part 1 | by Kamal Dhungana | Medium Beginner’s Guide to LangGraph: Understanding State, Nodes, and Edges — Part 1 LangGraph — State, Node and Edge Explained Mainly, we will focus on various components of LangGraph: State, Node, and Edges, and how to build a complete graph from these components. Once we understand these components, we will be able to build relatively complex LangGraph-based agents. Each node represents a specific function or operation that processes the current state. Nodes can perform computations, modify the state, or generate outputs based on the input they receive. Follow 1.2K Followers Data scientist with a passion for AI, Regularly blogging about LLM and OpenAI's innovations,Sharing insights for AI community growth Follow\"}, {'url': 'https://blog.langchain.dev/langgraph/', 'content': 'TL;DR: LangGraph is module built on top of LangChain to better enable creation of cyclical graphs, often needed for agent runtimes. This state is updated by nodes in the graph, which return operations to attributes of this state (in the form of a key-value store). After adding nodes, you can then add edges to create the graph. An example of this may be in the basic agent runtime, where we always want the model to be called after we call a tool. graph.add_edge(\"tools\", \"model\") The state of this graph by default contains concepts that should be familiar to you if you\\'ve used LangChain agents: input, chat_history, intermediate_steps (and agent_outcome to represent the most recent agent outcome)'}]\n",
      "[{\"url\": \"https://medium.com/@kbdhunga/beginners-guide-to-langgraph-understanding-state-nodes-and-edges-part-1-897e6114fa48\", \"content\": \"Beginner\\u2019s Guide to LangGraph: Understanding State, Nodes, and Edges \\u2014 Part 1 | by Kamal Dhungana | Medium Beginner\\u2019s Guide to LangGraph: Understanding State, Nodes, and Edges \\u2014 Part 1 LangGraph \\u2014 State, Node and Edge Explained Mainly, we will focus on various components of LangGraph: State, Node, and Edges, and how to build a complete graph from these components. Once we understand these components, we will be able to build relatively complex LangGraph-based agents. Each node represents a specific function or operation that processes the current state. Nodes can perform computations, modify the state, or generate outputs based on the input they receive. Follow 1.2K Followers Data scientist with a passion for AI, Regularly blogging about LLM and OpenAI's innovations,Sharing insights for AI community growth Follow\"}, {\"url\": \"https://blog.langchain.dev/langgraph/\", \"content\": \"TL;DR: LangGraph is module built on top of LangChain to better enable creation of cyclical graphs, often needed for agent runtimes. This state is updated by nodes in the graph, which return operations to attributes of this state (in the form of a key-value store). After adding nodes, you can then add edges to create the graph. An example of this may be in the basic agent runtime, where we always want the model to be called after we call a tool. graph.add_edge(\\\"tools\\\", \\\"model\\\") The state of this graph by default contains concepts that should be familiar to you if you've used LangChain agents: input, chat_history, intermediate_steps (and agent_outcome to represent the most recent agent outcome)\"}]\n",
      "tavily_search_results_json\n",
      "call_y99x5O8EAX38KjivTzNt50O2\n",
      "[ToolMessage(content='[{\"url\": \"https://medium.com/@kbdhunga/beginners-guide-to-langgraph-understanding-state-nodes-and-edges-part-1-897e6114fa48\", \"content\": \"Beginner\\\\u2019s Guide to LangGraph: Understanding State, Nodes, and Edges \\\\u2014 Part 1 | by Kamal Dhungana | Medium Beginner\\\\u2019s Guide to LangGraph: Understanding State, Nodes, and Edges \\\\u2014 Part 1 LangGraph \\\\u2014 State, Node and Edge Explained Mainly, we will focus on various components of LangGraph: State, Node, and Edges, and how to build a complete graph from these components. Once we understand these components, we will be able to build relatively complex LangGraph-based agents. Each node represents a specific function or operation that processes the current state. Nodes can perform computations, modify the state, or generate outputs based on the input they receive. Follow 1.2K Followers Data scientist with a passion for AI, Regularly blogging about LLM and OpenAI\\'s innovations,Sharing insights for AI community growth Follow\"}, {\"url\": \"https://blog.langchain.dev/langgraph/\", \"content\": \"TL;DR: LangGraph is module built on top of LangChain to better enable creation of cyclical graphs, often needed for agent runtimes. This state is updated by nodes in the graph, which return operations to attributes of this state (in the form of a key-value store). After adding nodes, you can then add edges to create the graph. An example of this may be in the basic agent runtime, where we always want the model to be called after we call a tool. graph.add_edge(\\\\\"tools\\\\\", \\\\\"model\\\\\") The state of this graph by default contains concepts that should be familiar to you if you\\'ve used LangChain agents: input, chat_history, intermediate_steps (and agent_outcome to represent the most recent agent outcome)\"}]', name='tavily_search_results_json', tool_call_id='call_y99x5O8EAX38KjivTzNt50O2')]\n",
      "{'message': [ToolMessage(content='[{\"url\": \"https://medium.com/@kbdhunga/beginners-guide-to-langgraph-understanding-state-nodes-and-edges-part-1-897e6114fa48\", \"content\": \"Beginner\\\\u2019s Guide to LangGraph: Understanding State, Nodes, and Edges \\\\u2014 Part 1 | by Kamal Dhungana | Medium Beginner\\\\u2019s Guide to LangGraph: Understanding State, Nodes, and Edges \\\\u2014 Part 1 LangGraph \\\\u2014 State, Node and Edge Explained Mainly, we will focus on various components of LangGraph: State, Node, and Edges, and how to build a complete graph from these components. Once we understand these components, we will be able to build relatively complex LangGraph-based agents. Each node represents a specific function or operation that processes the current state. Nodes can perform computations, modify the state, or generate outputs based on the input they receive. Follow 1.2K Followers Data scientist with a passion for AI, Regularly blogging about LLM and OpenAI\\'s innovations,Sharing insights for AI community growth Follow\"}, {\"url\": \"https://blog.langchain.dev/langgraph/\", \"content\": \"TL;DR: LangGraph is module built on top of LangChain to better enable creation of cyclical graphs, often needed for agent runtimes. This state is updated by nodes in the graph, which return operations to attributes of this state (in the form of a key-value store). After adding nodes, you can then add edges to create the graph. An example of this may be in the basic agent runtime, where we always want the model to be called after we call a tool. graph.add_edge(\\\\\"tools\\\\\", \\\\\"model\\\\\") The state of this graph by default contains concepts that should be familiar to you if you\\'ve used LangChain agents: input, chat_history, intermediate_steps (and agent_outcome to represent the most recent agent outcome)\"}]', name='tavily_search_results_json', tool_call_id='call_y99x5O8EAX38KjivTzNt50O2')]}\n"
     ]
    }
   ],
   "source": [
    "print(input)\n",
    "msg=input.get(\"messages\",[])[-1]\n",
    "print(msg)\n",
    "tool_call=msg.tool_calls\n",
    "print(tool_call[-1])\n",
    "print(tool_call[-1][\"name\"])\n",
    "print(tool_call[-1][\"args\"])\n",
    "\n",
    "tools_by_name={tool.name:tool for tool in tools}\n",
    "print(tools_by_name)\n",
    "type(tools_by_name)\n",
    "\n",
    "tool_result=tools_by_name[tool_call[-1][\"name\"]].invoke(tool_call[-1][\"args\"])\n",
    "print(tool_result)\n",
    "\n",
    "import json\n",
    "from langchain_core.messages import ToolMessage\n",
    "\n",
    "output=[]\n",
    "print(tool_result)\n",
    "print(json.dumps(tool_result))\n",
    "print(tool_call[-1][\"name\"])\n",
    "print(tool_call[-1][\"id\"])\n",
    "output.append(ToolMessage(\n",
    "    content=json.dumps(tool_result),\n",
    "    name=tool_call[-1][\"name\"],\n",
    "    tool_call_id=tool_call[-1][\"id\"],\n",
    "                )\n",
    ")\n",
    "print(output)\n",
    "print({\"message\":output})\n"
   ]
  },
  {
   "cell_type": "code",
   "execution_count": 46,
   "metadata": {},
   "outputs": [
    {
     "data": {
      "text/plain": [
       "<langgraph.graph.state.StateGraph at 0x1c571b94d50>"
      ]
     },
     "execution_count": 46,
     "metadata": {},
     "output_type": "execute_result"
    }
   ],
   "source": [
    "import json\n",
    "from langchain_core.messages import ToolMessage\n",
    "\n",
    "\n",
    "# class BasicToolNode:\n",
    "#     \"\"\"A node that runs the tools requested in the last AIMessage.\"\"\"\n",
    "\n",
    "#     def __init__(self, tools: list) -> None:\n",
    "#         self.tools_by_name = {tool.name: tool for tool in tools}\n",
    "\n",
    "#     def __call__(self, inputs: dict):\n",
    "#         if messages := inputs.get(\"messages\", []):\n",
    "#             message = messages[-1]\n",
    "#         else:\n",
    "#             raise ValueError(\"No message found in input\")\n",
    "#         outputs = []\n",
    "#         for tool_call in message.tool_calls:\n",
    "#             tool_result = self.tools_by_name[tool_call[-1][\"name\"]].invoke(\n",
    "#                 tool_call[-1][\"args\"]\n",
    "#             )\n",
    "#             outputs.append(\n",
    "#                 ToolMessage(\n",
    "#                     content=json.dumps(tool_result),\n",
    "#                     name=tool_call[-1][\"name\"],\n",
    "#                     tool_call_id=tool_call[-1][\"id\"],\n",
    "#                 )\n",
    "#             )\n",
    "#         return {\"messages\": outputs}\n",
    "\n",
    "\n",
    "# tool_node = BasicToolNode(tools=[search_tool,lookup_documnet,query_sqldb])\n",
    "# graph_builder.add_node(\"tools\", tool_node)\n",
    "\n",
    "class BasicToolNode:\n",
    "    \"\"\"A node that runs the tools requested in the last AIMessage.\"\"\"\n",
    "\n",
    "    def __init__(self, tools: list) -> None:\n",
    "        self.tools_by_name = {tool.name: tool for tool in tools}\n",
    "\n",
    "    def __call__(self, inputs: dict):\n",
    "        if messages := inputs.get(\"messages\", []):\n",
    "            message = messages[-1]\n",
    "        else:\n",
    "            raise ValueError(\"No message found in input\")\n",
    "        outputs = []\n",
    "        for tool_call in message.tool_calls:\n",
    "            tool_result = self.tools_by_name[tool_call[\"name\"]].invoke(\n",
    "                tool_call[\"args\"]\n",
    "            )\n",
    "            outputs.append(\n",
    "                ToolMessage(\n",
    "                    content=json.dumps(tool_result),\n",
    "                    name=tool_call[\"name\"],\n",
    "                    tool_call_id=tool_call[\"id\"],\n",
    "                )\n",
    "            )\n",
    "        return {\"messages\": outputs}\n",
    "\n",
    "\n",
    "tool_node = BasicToolNode(tools=[search_tool,lookup_documnet,query_sqldb])\n",
    "graph_builder.add_node(\"tools\", tool_node)"
   ]
  },
  {
   "cell_type": "code",
   "execution_count": 47,
   "metadata": {},
   "outputs": [
    {
     "name": "stdout",
     "output_type": "stream",
     "text": [
      "content='' additional_kwargs={'tool_calls': [{'id': 'call_y99x5O8EAX38KjivTzNt50O2', 'function': {'arguments': '{\"query\":\"node in LangGraph\"}', 'name': 'tavily_search_results_json'}, 'type': 'function'}], 'refusal': None} response_metadata={'token_usage': {'completion_tokens': 22, 'prompt_tokens': 155, 'total_tokens': 177, 'completion_tokens_details': {'accepted_prediction_tokens': 0, 'audio_tokens': 0, 'reasoning_tokens': 0, 'rejected_prediction_tokens': 0}, 'prompt_tokens_details': {'audio_tokens': 0, 'cached_tokens': 0}}, 'model_name': 'gpt-4o-mini-2024-07-18', 'system_fingerprint': 'fp_bd83329f63', 'finish_reason': 'tool_calls', 'logprobs': None} id='run-ccdd8d33-cd4e-4da0-ad42-8ef71b5f5b1b-0' tool_calls=[{'name': 'tavily_search_results_json', 'args': {'query': 'node in LangGraph'}, 'id': 'call_y99x5O8EAX38KjivTzNt50O2', 'type': 'tool_call'}] usage_metadata={'input_tokens': 155, 'output_tokens': 22, 'total_tokens': 177, 'input_token_details': {'audio': 0, 'cache_read': 0}, 'output_token_details': {'audio': 0, 'reasoning': 0}}\n",
      "[{'name': 'tavily_search_results_json', 'args': {'query': 'node in LangGraph'}, 'id': 'call_y99x5O8EAX38KjivTzNt50O2', 'type': 'tool_call'}]\n"
     ]
    }
   ],
   "source": [
    "ai_message=input.get(\"messages\",[])[-1]\n",
    "print(ai_message)\n",
    "print(ai_message.tool_calls)\n"
   ]
  },
  {
   "cell_type": "code",
   "execution_count": 48,
   "metadata": {},
   "outputs": [
    {
     "data": {
      "text/plain": [
       "<langgraph.graph.state.StateGraph at 0x1c571b94d50>"
      ]
     },
     "execution_count": 48,
     "metadata": {},
     "output_type": "execute_result"
    }
   ],
   "source": [
    "from typing import Literal\n",
    "\n",
    "\n",
    "def route_tools(\n",
    "    state: State,\n",
    ") -> Literal[\"tools\", \"__end__\"]:\n",
    "    \"\"\"\n",
    "    Use in the conditional_edge to route to the ToolNode if the last message\n",
    "    has tool calls. Otherwise, route to the end.\n",
    "    \"\"\"\n",
    "    if isinstance(state, list):\n",
    "        ai_message = state[-1]\n",
    "    elif messages := state.get(\"messages\", []):\n",
    "        ai_message = messages[-1]\n",
    "    else:\n",
    "        raise ValueError(f\"No messages found in input state to tool_edge: {state}\")\n",
    "    if hasattr(ai_message, \"tool_calls\") and len(ai_message.tool_calls) > 0:\n",
    "        return \"tools\"\n",
    "    return \"__end__\"\n",
    "\n",
    "\n",
    "# The `tools_condition` function returns \"tools\" if the chatbot asks to use a tool, and \"__end__\" if\n",
    "# it is fine directly responding. This conditional routing defines the main agent loop.\n",
    "graph_builder.add_conditional_edges(\n",
    "    \"chatbot\",\n",
    "    route_tools,\n",
    "    # The following dictionary lets you tell the graph to interpret the condition's outputs as a specific node\n",
    "    # It defaults to the identity function, but if you\n",
    "    # want to use a node named something else apart from \"tools\",\n",
    "    # You can update the value of the dictionary to something else\n",
    "    # e.g., \"tools\": \"my_tools\"\n",
    "    {\"tools\": \"tools\", \"__end__\": \"__end__\"},\n",
    ")\n",
    "# Any time a tool is called, we return to the chatbot to decide the next step\n",
    "graph_builder.add_edge(\"tools\", \"chatbot\")\n",
    "graph_builder.add_edge(START, \"chatbot\")"
   ]
  },
  {
   "cell_type": "code",
   "execution_count": 49,
   "metadata": {},
   "outputs": [],
   "source": [
    "# from langgraph.checkpoint.memory import MemorySaver\n",
    "\n",
    "# memory = MemorySaver()\n",
    "# graph = graph_builder.compile(checkpointer=memory)\n",
    "graph=graph_builder.compile()"
   ]
  },
  {
   "cell_type": "code",
   "execution_count": 50,
   "metadata": {},
   "outputs": [
    {
     "data": {
      "image/png": "[encoded data removed]",
      "text/plain": [
       "<IPython.core.display.Image object>"
      ]
     },
     "metadata": {},
     "output_type": "display_data"
    }
   ],
   "source": [
    "from IPython.display import Image, display\n",
    "\n",
    "try:\n",
    "    display(Image(graph.get_graph().draw_mermaid_png()))\n",
    "except Exception:\n",
    "    # This requires some extra dependencies and is optional\n",
    "    pass"
   ]
  },
  {
   "cell_type": "code",
   "execution_count": 51,
   "metadata": {},
   "outputs": [],
   "source": [
    "# config = {\"configurable\": {\"thread_id\": \"1\"}}"
   ]
  },
  {
   "cell_type": "code",
   "execution_count": 52,
   "metadata": {},
   "outputs": [
    {
     "name": "stdout",
     "output_type": "stream",
     "text": [
      "================================\u001b[1m Human Message \u001b[0m=================================\n",
      "\n",
      "what is the node in langgraph?\n",
      "==================================\u001b[1m Ai Message \u001b[0m==================================\n",
      "Tool Calls:\n",
      "  tavily_search_results_json (call_Rmy0S8KdTeCJDp2IU77G1M1i)\n",
      " Call ID: call_Rmy0S8KdTeCJDp2IU77G1M1i\n",
      "  Args:\n",
      "    query: node in langgraph\n",
      "=================================\u001b[1m Tool Message \u001b[0m=================================\n",
      "Name: tavily_search_results_json\n",
      "\n",
      "[{\"url\": \"https://medium.com/@kbdhunga/beginners-guide-to-langgraph-understanding-state-nodes-and-edges-part-1-897e6114fa48\", \"content\": \"Beginner\\u2019s Guide to LangGraph: Understanding State, Nodes, and Edges \\u2014 Part 1 | by Kamal Dhungana | Medium Beginner\\u2019s Guide to LangGraph: Understanding State, Nodes, and Edges \\u2014 Part 1 LangGraph \\u2014 State, Node and Edge Explained Mainly, we will focus on various components of LangGraph: State, Node, and Edges, and how to build a complete graph from these components. Once we understand these components, we will be able to build relatively complex LangGraph-based agents. Each node represents a specific function or operation that processes the current state. Nodes can perform computations, modify the state, or generate outputs based on the input they receive. Follow 1.2K Followers Data scientist with a passion for AI, Regularly blogging about LLM and OpenAI's innovations,Sharing insights for AI community growth Follow\"}, {\"url\": \"https://blog.langchain.dev/langgraph/\", \"content\": \"TL;DR: LangGraph is module built on top of LangChain to better enable creation of cyclical graphs, often needed for agent runtimes. This state is updated by nodes in the graph, which return operations to attributes of this state (in the form of a key-value store). After adding nodes, you can then add edges to create the graph. An example of this may be in the basic agent runtime, where we always want the model to be called after we call a tool. graph.add_edge(\\\"tools\\\", \\\"model\\\") The state of this graph by default contains concepts that should be familiar to you if you've used LangChain agents: input, chat_history, intermediate_steps (and agent_outcome to represent the most recent agent outcome)\"}]\n",
      "==================================\u001b[1m Ai Message \u001b[0m==================================\n",
      "\n",
      "In LangGraph, a \"node\" represents a specific function or operation that processes the current state of the graph. Each node can perform computations, modify the state, or generate outputs based on the input it receives. LangGraph is built on top of LangChain and is designed to facilitate the creation of cyclical graphs, which are often needed for agent runtimes. \n",
      "\n",
      "Nodes update the state of the graph, returning operations to attributes of this state in the form of a key-value store. After adding nodes, edges can be added to create connections between them, forming a complete graph. This structure allows for complex interactions and processes within LangGraph-based agents. \n",
      "\n",
      "For more detailed information, you can refer to the articles on [Medium](https://medium.com/@kbdhunga/beginners-guide-to-langgraph-understanding-state-nodes-and-edges-part-1-897e6114fa48) and [LangChain Blog](https://blog.langchain.dev/langgraph/).\n"
     ]
    }
   ],
   "source": [
    "# user_input = \"what is the node in langgraph?\"\n",
    "\n",
    "# # The config is the **second positional argument** to stream() or invoke()!\n",
    "# events = graph.stream(\n",
    "#     {\"messages\": [(\"user\", user_input)]}, config, stream_mode=\"values\"\n",
    "# )\n",
    "# for event in events:\n",
    "#     event[\"messages\"][-1].pretty_print()\n",
    "\n",
    "user_input = \"what is the node in langgraph?\"\n",
    "\n",
    "# The config is the **second positional argument** to stream() or invoke()!\n",
    "events = graph.stream(\n",
    "    {\"messages\": [(\"user\", user_input)]}, stream_mode=\"values\"\n",
    ")\n",
    "for event in events:\n",
    "    event[\"messages\"][-1].pretty_print()"
   ]
  },
  {
   "cell_type": "code",
   "execution_count": 53,
   "metadata": {},
   "outputs": [
    {
     "data": {
      "text/plain": [
       "{'messages': [HumanMessage(content='what is the node in langgraph?', additional_kwargs={}, response_metadata={}, id='482c3d9d-d87f-48dd-99b8-6b3ae24c6b25'),\n",
       "  AIMessage(content='', additional_kwargs={'tool_calls': [{'id': 'call_Rmy0S8KdTeCJDp2IU77G1M1i', 'function': {'arguments': '{\"query\":\"node in langgraph\"}', 'name': 'tavily_search_results_json'}, 'type': 'function'}], 'refusal': None}, response_metadata={'token_usage': {'completion_tokens': 22, 'prompt_tokens': 154, 'total_tokens': 176, 'completion_tokens_details': {'accepted_prediction_tokens': 0, 'audio_tokens': 0, 'reasoning_tokens': 0, 'rejected_prediction_tokens': 0}, 'prompt_tokens_details': {'audio_tokens': 0, 'cached_tokens': 0}}, 'model_name': 'gpt-4o-mini-2024-07-18', 'system_fingerprint': 'fp_bd83329f63', 'finish_reason': 'tool_calls', 'logprobs': None}, id='run-ef0d0ac1-aecb-4ea9-b7e6-a9fabcc6dc05-0', tool_calls=[{'name': 'tavily_search_results_json', 'args': {'query': 'node in langgraph'}, 'id': 'call_Rmy0S8KdTeCJDp2IU77G1M1i', 'type': 'tool_call'}], usage_metadata={'input_tokens': 154, 'output_tokens': 22, 'total_tokens': 176, 'input_token_details': {'audio': 0, 'cache_read': 0}, 'output_token_details': {'audio': 0, 'reasoning': 0}}),\n",
       "  ToolMessage(content='[{\"url\": \"https://medium.com/@kbdhunga/beginners-guide-to-langgraph-understanding-state-nodes-and-edges-part-1-897e6114fa48\", \"content\": \"Beginner\\\\u2019s Guide to LangGraph: Understanding State, Nodes, and Edges \\\\u2014 Part 1 | by Kamal Dhungana | Medium Beginner\\\\u2019s Guide to LangGraph: Understanding State, Nodes, and Edges \\\\u2014 Part 1 LangGraph \\\\u2014 State, Node and Edge Explained Mainly, we will focus on various components of LangGraph: State, Node, and Edges, and how to build a complete graph from these components. Once we understand these components, we will be able to build relatively complex LangGraph-based agents. Each node represents a specific function or operation that processes the current state. Nodes can perform computations, modify the state, or generate outputs based on the input they receive. Follow 1.2K Followers Data scientist with a passion for AI, Regularly blogging about LLM and OpenAI\\'s innovations,Sharing insights for AI community growth Follow\"}, {\"url\": \"https://blog.langchain.dev/langgraph/\", \"content\": \"TL;DR: LangGraph is module built on top of LangChain to better enable creation of cyclical graphs, often needed for agent runtimes. This state is updated by nodes in the graph, which return operations to attributes of this state (in the form of a key-value store). After adding nodes, you can then add edges to create the graph. An example of this may be in the basic agent runtime, where we always want the model to be called after we call a tool. graph.add_edge(\\\\\"tools\\\\\", \\\\\"model\\\\\") The state of this graph by default contains concepts that should be familiar to you if you\\'ve used LangChain agents: input, chat_history, intermediate_steps (and agent_outcome to represent the most recent agent outcome)\"}]', name='tavily_search_results_json', id='66b9aab0-9948-4ffc-9eba-f93f46b56928', tool_call_id='call_Rmy0S8KdTeCJDp2IU77G1M1i'),\n",
       "  AIMessage(content='In LangGraph, a \"node\" represents a specific function or operation that processes the current state of the graph. Each node can perform computations, modify the state, or generate outputs based on the input it receives. LangGraph is built on top of LangChain and is designed to facilitate the creation of cyclical graphs, which are often needed for agent runtimes. \\n\\nNodes update the state of the graph, returning operations to attributes of this state in the form of a key-value store. After adding nodes, edges can be added to create connections between them, forming a complete graph. This structure allows for complex interactions and processes within LangGraph-based agents. \\n\\nFor more detailed information, you can refer to the articles on [Medium](https://medium.com/@kbdhunga/beginners-guide-to-langgraph-understanding-state-nodes-and-edges-part-1-897e6114fa48) and [LangChain Blog](https://blog.langchain.dev/langgraph/).', additional_kwargs={'refusal': None}, response_metadata={'token_usage': {'completion_tokens': 199, 'prompt_tokens': 589, 'total_tokens': 788, 'completion_tokens_details': {'accepted_prediction_tokens': 0, 'audio_tokens': 0, 'reasoning_tokens': 0, 'rejected_prediction_tokens': 0}, 'prompt_tokens_details': {'audio_tokens': 0, 'cached_tokens': 0}}, 'model_name': 'gpt-4o-mini-2024-07-18', 'system_fingerprint': 'fp_bd83329f63', 'finish_reason': 'stop', 'logprobs': None}, id='run-005698f8-a837-435e-b410-226cb23bc1c9-0', usage_metadata={'input_tokens': 589, 'output_tokens': 199, 'total_tokens': 788, 'input_token_details': {'audio': 0, 'cache_read': 0}, 'output_token_details': {'audio': 0, 'reasoning': 0}})]}"
      ]
     },
     "execution_count": 53,
     "metadata": {},
     "output_type": "execute_result"
    }
   ],
   "source": [
    "event"
   ]
  },
  {
   "cell_type": "code",
   "execution_count": 54,
   "metadata": {},
   "outputs": [
    {
     "name": "stdout",
     "output_type": "stream",
     "text": [
      "================================\u001b[1m Human Message \u001b[0m=================================\n",
      "\n",
      "give me the employee name with the highest salary\n",
      "==================================\u001b[1m Ai Message \u001b[0m==================================\n",
      "Tool Calls:\n",
      "  query_sqldb (call_UoX0OqmkOdZNgfWsps9CSPnj)\n",
      " Call ID: call_UoX0OqmkOdZNgfWsps9CSPnj\n",
      "  Args:\n",
      "    query: SELECT name FROM employees ORDER BY salary DESC LIMIT 1;\n",
      "['Billing', 'ChangeOrder', 'ComplianceIssue', 'Contract', 'CostCodes', 'Employee', 'Expense', 'Invoice', 'Projects', 'Revenue', 'SubContract', 'Task', 'Time_Tracking']\n",
      "table name printed\n",
      "=================================\u001b[1m Tool Message \u001b[0m=================================\n",
      "Name: query_sqldb\n",
      "\n",
      "\"The employee with the highest hourly rate is Ian Garcia.\"\n",
      "==================================\u001b[1m Ai Message \u001b[0m==================================\n",
      "\n",
      "The employee with the highest salary is Ian Garcia.\n"
     ]
    }
   ],
   "source": [
    "user_input = \"give me the employee name with the highest salary\"\n",
    "\n",
    "# The config is the **second positional argument** to stream() or invoke()!\n",
    "events = graph.stream(\n",
    "    {\"messages\": [(\"user\", user_input)]}, stream_mode=\"values\"\n",
    ")\n",
    "for event in events:\n",
    "    event[\"messages\"][-1].pretty_print()"
   ]
  },
  {
   "cell_type": "code",
   "execution_count": 55,
   "metadata": {},
   "outputs": [
    {
     "name": "stdout",
     "output_type": "stream",
     "text": [
      "================================\u001b[1m Human Message \u001b[0m=================================\n",
      "\n",
      "can you describe me what is Amarok the lone wolf in 15 words?\n",
      "==================================\u001b[1m Ai Message \u001b[0m==================================\n",
      "\n",
      "Amarok, the lone wolf, is a mythical creature symbolizing strength, independence, and wilderness spirit.\n"
     ]
    }
   ],
   "source": [
    "user_input = \"can you describe me what is Amarok the lone wolf in 15 words?\"\n",
    "\n",
    "# The config is the **second positional argument** to stream() or invoke()!\n",
    "events = graph.stream(\n",
    "    {\"messages\": [(\"user\", user_input)]}, stream_mode=\"values\"\n",
    ")\n",
    "for event in events:\n",
    "    event[\"messages\"][-1].pretty_print()"
   ]
  },
  {
   "cell_type": "code",
   "execution_count": 56,
   "metadata": {},
   "outputs": [
    {
     "name": "stdout",
     "output_type": "stream",
     "text": [
      "================================\u001b[1m Human Message \u001b[0m=================================\n",
      "\n",
      "give me the top 5 employee id with highest salary\n",
      "==================================\u001b[1m Ai Message \u001b[0m==================================\n",
      "Tool Calls:\n",
      "  query_sqldb (call_BbxZJED35g9RtSXZz70d3enw)\n",
      " Call ID: call_BbxZJED35g9RtSXZz70d3enw\n",
      "  Args:\n",
      "    query: SELECT employee_id, salary FROM employees ORDER BY salary DESC LIMIT 5;\n",
      "['Billing', 'ChangeOrder', 'ComplianceIssue', 'Contract', 'CostCodes', 'Employee', 'Expense', 'Invoice', 'Projects', 'Revenue', 'SubContract', 'Task', 'Time_Tracking']\n",
      "table name printed\n",
      "=================================\u001b[1m Tool Message \u001b[0m=================================\n",
      "Name: query_sqldb\n",
      "\n",
      "\"The top 5 employees by hourly rate are: (19, 67.81), (105, 67.81), (141, 67.81), (182, 67.81), (20, 59.14).\"\n",
      "==================================\u001b[1m Ai Message \u001b[0m==================================\n",
      "\n",
      "The top 5 employee IDs with the highest salaries are:\n",
      "\n",
      "1. Employee ID: 19, Salary: $67.81\n",
      "2. Employee ID: 105, Salary: $67.81\n",
      "3. Employee ID: 141, Salary: $67.81\n",
      "4. Employee ID: 182, Salary: $67.81\n",
      "5. Employee ID: 20, Salary: $59.14\n"
     ]
    }
   ],
   "source": [
    "user_input = \"give me the top 5 employee id with highest salary\"\n",
    "\n",
    "# The config is the **second positional argument** to stream() or invoke()!\n",
    "events = graph.stream(\n",
    "    {\"messages\": [(\"user\", user_input)]}, stream_mode=\"values\"\n",
    ")\n",
    "for event in events:\n",
    "    event[\"messages\"][-1].pretty_print()"
   ]
  },
  {
   "cell_type": "code",
   "execution_count": null,
   "metadata": {},
   "outputs": [],
   "source": [
    "from langchain_core.messages import HumanMessage,AIMessage\n",
    "\n",
    "event={'messages': [HumanMessage(content='what is the node in langgraph?', additional_kwargs={}, response_metadata={}, id='dc891d2b-e0ce-4c45-b09e-a212ad5b6281'), AIMessage(content='', additional_kwargs={'tool_calls': [{'id': 'call_0rvB5c85K8RQBNVPm4iVWaQ7', 'function': {'arguments': '{\"query\":\"node in langgraph\"}', 'name': 'tavily_search_results_json'}, 'type': 'function'}], 'refusal': None}, response_metadata={'token_usage': {'completion_tokens': 22, 'prompt_tokens': 154, 'total_tokens': 176, 'completion_tokens_details': {'accepted_prediction_tokens': 0, 'audio_tokens': 0, 'reasoning_tokens': 0, 'rejected_prediction_tokens': 0}, 'prompt_tokens_details': {'audio_tokens': 0, 'cached_tokens': 0}}, 'model_name': 'gpt-4o-mini-2024-07-18', 'system_fingerprint': 'fp_bd83329f63', 'finish_reason': 'tool_calls', 'logprobs': None}, id='run-f2af3daf-c6c8-4f41-9f26-b1fc727e5fe9-0', tool_calls=[{'name': 'tavily_search_results_json', 'args': {'query': 'node in langgraph'}, 'id': 'call_0rvB5c85K8RQBNVPm4iVWaQ7', 'type': 'tool_call'}], usage_metadata={'input_tokens': 154, 'output_tokens': 22, 'total_tokens': 176, 'input_token_details': {'audio': 0, 'cache_read': 0}, 'output_token_details': {'audio': 0, 'reasoning': 0}}), HumanMessage(content='what is the node in langgraph?', additional_kwargs={}, response_metadata={}, id='1c4e28d1-54dc-4ec4-a70a-afa6fd5d0bb0'), HumanMessage(content='what is the node in langgraph?.', additional_kwargs={}, response_metadata={}, id='fa0d6f02-a065-460a-8700-7399f62bfb09'), HumanMessage(content='what is the node in langgraph?.', additional_kwargs={}, response_metadata={}, id='760a2e7d-8db3-490e-91bc-f33f42d3aa48')]}\n",
    "print(event)\n",
    "print(event[\"messages\"])\n",
    "print(event[\"messages\"][-1])\n",
    "print(event[\"messages\"][-1].pretty_print())"
   ]
  },
  {
   "cell_type": "code",
   "execution_count": null,
   "metadata": {},
   "outputs": [],
   "source": [
    "for event in events:\n",
    "    print(event)"
   ]
  },
  {
   "cell_type": "code",
   "execution_count": 183,
   "metadata": {},
   "outputs": [
    {
     "data": {
      "text/plain": [
       "{'messages': [HumanMessage(content='give me the top 5 employee id with highest salary', additional_kwargs={}, response_metadata={}, id='d2687f36-0f09-4b77-a815-de4505eb6c49'),\n",
       "  AIMessage(content='', additional_kwargs={'tool_calls': [{'id': 'call_cxBAtH6Dnt0A0jLNczyOq6Lb', 'function': {'arguments': '{\"query\":\"SELECT employee_id, salary FROM employees ORDER BY salary DESC LIMIT 5;\"}', 'name': 'query_sqldb'}, 'type': 'function'}], 'refusal': None}, response_metadata={'token_usage': {'completion_tokens': 30, 'prompt_tokens': 157, 'total_tokens': 187, 'completion_tokens_details': {'accepted_prediction_tokens': 0, 'audio_tokens': 0, 'reasoning_tokens': 0, 'rejected_prediction_tokens': 0}, 'prompt_tokens_details': {'audio_tokens': 0, 'cached_tokens': 0}}, 'model_name': 'gpt-4o-mini-2024-07-18', 'system_fingerprint': 'fp_bd83329f63', 'finish_reason': 'tool_calls', 'logprobs': None}, id='run-752a4194-ca55-4ce6-8c14-7b322451389d-0', tool_calls=[{'name': 'query_sqldb', 'args': {'query': 'SELECT employee_id, salary FROM employees ORDER BY salary DESC LIMIT 5;'}, 'id': 'call_cxBAtH6Dnt0A0jLNczyOq6Lb', 'type': 'tool_call'}], usage_metadata={'input_tokens': 157, 'output_tokens': 30, 'total_tokens': 187, 'input_token_details': {'audio': 0, 'cache_read': 0}, 'output_token_details': {'audio': 0, 'reasoning': 0}}),\n",
       "  ToolMessage(content='\"Agent stopped due to iteration limit or time limit.\"', name='query_sqldb', id='5d0515a4-937b-496d-a149-f5934b2b1bf6', tool_call_id='call_cxBAtH6Dnt0A0jLNczyOq6Lb'),\n",
       "  AIMessage(content='', additional_kwargs={'tool_calls': [{'id': 'call_aU8etm6OUM24sDTVnKZITs2H', 'function': {'arguments': '{\"query\":\"SELECT employee_id, salary FROM employees ORDER BY salary DESC LIMIT 5\"}', 'name': 'query_sqldb'}, 'type': 'function'}], 'refusal': None}, response_metadata={'token_usage': {'completion_tokens': 29, 'prompt_tokens': 206, 'total_tokens': 235, 'completion_tokens_details': {'accepted_prediction_tokens': 0, 'audio_tokens': 0, 'reasoning_tokens': 0, 'rejected_prediction_tokens': 0}, 'prompt_tokens_details': {'audio_tokens': 0, 'cached_tokens': 0}}, 'model_name': 'gpt-4o-mini-2024-07-18', 'system_fingerprint': 'fp_bd83329f63', 'finish_reason': 'tool_calls', 'logprobs': None}, id='run-087a2d2b-8277-46ec-8e85-a011db159b4f-0', tool_calls=[{'name': 'query_sqldb', 'args': {'query': 'SELECT employee_id, salary FROM employees ORDER BY salary DESC LIMIT 5'}, 'id': 'call_aU8etm6OUM24sDTVnKZITs2H', 'type': 'tool_call'}], usage_metadata={'input_tokens': 206, 'output_tokens': 29, 'total_tokens': 235, 'input_token_details': {'audio': 0, 'cache_read': 0}, 'output_token_details': {'audio': 0, 'reasoning': 0}}),\n",
       "  ToolMessage(content='\"Agent stopped due to iteration limit or time limit.\"', name='query_sqldb', id='768aaf77-a57a-4acc-8c30-d66d6d810799', tool_call_id='call_aU8etm6OUM24sDTVnKZITs2H'),\n",
       "  AIMessage(content='', additional_kwargs={'tool_calls': [{'id': 'call_03JXOdur4s3RI1Ozv4B842iL', 'function': {'arguments': '{\"query\":\"SELECT employee_id, salary FROM employees ORDER BY salary DESC\"}', 'name': 'query_sqldb'}, 'type': 'function'}], 'refusal': None}, response_metadata={'token_usage': {'completion_tokens': 26, 'prompt_tokens': 254, 'total_tokens': 280, 'completion_tokens_details': {'accepted_prediction_tokens': 0, 'audio_tokens': 0, 'reasoning_tokens': 0, 'rejected_prediction_tokens': 0}, 'prompt_tokens_details': {'audio_tokens': 0, 'cached_tokens': 0}}, 'model_name': 'gpt-4o-mini-2024-07-18', 'system_fingerprint': 'fp_bd83329f63', 'finish_reason': 'tool_calls', 'logprobs': None}, id='run-aff179e8-f31c-4cef-94e2-c277dae6e022-0', tool_calls=[{'name': 'query_sqldb', 'args': {'query': 'SELECT employee_id, salary FROM employees ORDER BY salary DESC'}, 'id': 'call_03JXOdur4s3RI1Ozv4B842iL', 'type': 'tool_call'}], usage_metadata={'input_tokens': 254, 'output_tokens': 26, 'total_tokens': 280, 'input_token_details': {'audio': 0, 'cache_read': 0}, 'output_token_details': {'audio': 0, 'reasoning': 0}}),\n",
       "  ToolMessage(content='\"Agent stopped due to iteration limit or time limit.\"', name='query_sqldb', id='6883b235-b930-435c-a78b-ee05fba7bd5a', tool_call_id='call_03JXOdur4s3RI1Ozv4B842iL'),\n",
       "  AIMessage(content='', additional_kwargs={'tool_calls': [{'id': 'call_JdHRvHbExAlS9pe7nKB5HMei', 'function': {'arguments': '{\"query\":\"SELECT employee_id, salary FROM employees\"}', 'name': 'query_sqldb'}, 'type': 'function'}], 'refusal': None}, response_metadata={'token_usage': {'completion_tokens': 22, 'prompt_tokens': 299, 'total_tokens': 321, 'completion_tokens_details': {'accepted_prediction_tokens': 0, 'audio_tokens': 0, 'reasoning_tokens': 0, 'rejected_prediction_tokens': 0}, 'prompt_tokens_details': {'audio_tokens': 0, 'cached_tokens': 0}}, 'model_name': 'gpt-4o-mini-2024-07-18', 'system_fingerprint': 'fp_bd83329f63', 'finish_reason': 'tool_calls', 'logprobs': None}, id='run-f5570bc8-b20f-437a-a96a-e1933907dbd5-0', tool_calls=[{'name': 'query_sqldb', 'args': {'query': 'SELECT employee_id, salary FROM employees'}, 'id': 'call_JdHRvHbExAlS9pe7nKB5HMei', 'type': 'tool_call'}], usage_metadata={'input_tokens': 299, 'output_tokens': 22, 'total_tokens': 321, 'input_token_details': {'audio': 0, 'cache_read': 0}, 'output_token_details': {'audio': 0, 'reasoning': 0}}),\n",
       "  ToolMessage(content='\"Agent stopped due to iteration limit or time limit.\"', name='query_sqldb', id='687c6860-103c-40df-a1e9-b618732d8960', tool_call_id='call_JdHRvHbExAlS9pe7nKB5HMei'),\n",
       "  AIMessage(content='', additional_kwargs={'tool_calls': [{'id': 'call_hatSE37ztCLWCOXnxMz7oDc5', 'function': {'arguments': '{\"query\":\"SELECT employee_id, salary FROM employees LIMIT 10\"}', 'name': 'query_sqldb'}, 'type': 'function'}], 'refusal': None}, response_metadata={'token_usage': {'completion_tokens': 25, 'prompt_tokens': 340, 'total_tokens': 365, 'completion_tokens_details': {'accepted_prediction_tokens': 0, 'audio_tokens': 0, 'reasoning_tokens': 0, 'rejected_prediction_tokens': 0}, 'prompt_tokens_details': {'audio_tokens': 0, 'cached_tokens': 0}}, 'model_name': 'gpt-4o-mini-2024-07-18', 'system_fingerprint': 'fp_bd83329f63', 'finish_reason': 'tool_calls', 'logprobs': None}, id='run-7fefaa22-2b9c-4363-ac82-f6e35cf82252-0', tool_calls=[{'name': 'query_sqldb', 'args': {'query': 'SELECT employee_id, salary FROM employees LIMIT 10'}, 'id': 'call_hatSE37ztCLWCOXnxMz7oDc5', 'type': 'tool_call'}], usage_metadata={'input_tokens': 340, 'output_tokens': 25, 'total_tokens': 365, 'input_token_details': {'audio': 0, 'cache_read': 0}, 'output_token_details': {'audio': 0, 'reasoning': 0}}),\n",
       "  ToolMessage(content='\"Agent stopped due to iteration limit or time limit.\"', name='query_sqldb', id='f16ee94c-4a8f-430c-9698-cc5ab4af9dc4', tool_call_id='call_hatSE37ztCLWCOXnxMz7oDc5'),\n",
       "  AIMessage(content=\"It seems that I'm unable to retrieve the employee data due to some limitations in querying the database. If you have access to the data or a specific dataset, you could provide it, and I can help you analyze it. Alternatively, if you have any other questions or need assistance with something else, feel free to ask!\", additional_kwargs={'refusal': None}, response_metadata={'token_usage': {'completion_tokens': 66, 'prompt_tokens': 384, 'total_tokens': 450, 'completion_tokens_details': {'accepted_prediction_tokens': 0, 'audio_tokens': 0, 'reasoning_tokens': 0, 'rejected_prediction_tokens': 0}, 'prompt_tokens_details': {'audio_tokens': 0, 'cached_tokens': 0}}, 'model_name': 'gpt-4o-mini-2024-07-18', 'system_fingerprint': 'fp_bd83329f63', 'finish_reason': 'stop', 'logprobs': None}, id='run-24aef598-a727-41cb-bd13-cd6a52f4e8e5-0', usage_metadata={'input_tokens': 384, 'output_tokens': 66, 'total_tokens': 450, 'input_token_details': {'audio': 0, 'cache_read': 0}, 'output_token_details': {'audio': 0, 'reasoning': 0}})]}"
      ]
     },
     "execution_count": 183,
     "metadata": {},
     "output_type": "execute_result"
    }
   ],
   "source": [
    "event"
   ]
  },
  {
   "cell_type": "code",
   "execution_count": null,
   "metadata": {},
   "outputs": [],
   "source": []
  }
 ],
 "metadata": {
  "kernelspec": {
   "display_name": "rag_graph",
   "language": "python",
   "name": "python3"
  },
  "language_info": {
   "codemirror_mode": {
    "name": "ipython",
    "version": 3
   },
   "file_extension": ".py",
   "mimetype": "text/x-python",
   "name": "python",
   "nbconvert_exporter": "python",
   "pygments_lexer": "ipython3",
   "version": "3.11.11"
  }
 },
 "nbformat": 4,
 "nbformat_minor": 2
}
